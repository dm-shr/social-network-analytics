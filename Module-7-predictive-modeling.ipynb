{
 "cells": [
  {
   "cell_type": "markdown",
   "id": "d8e1fc90-ce89-4224-ab77-3a803324301a",
   "metadata": {},
   "source": [
    "## Part 7: Predictive Modeling\n",
    "---\n",
    "In this section, we employ the tools of predictivte analytics to:\n",
    "  - measure the effect of the marketing campaign on user metrics\n",
    "  - forecast the future user acitivity to plan the workload on the server\n",
    "\n",
    "### Table of Contents\n",
    "- [Imports, global parameters, functions](#section-1)\n",
    "- [Marketing campaign: analysis of metrics with Casualmpact](#section-2)\n",
    "- [Forecasting: users activity within 1 month](#section-3)\n"
   ]
  },
  {
   "cell_type": "markdown",
   "id": "88fef338-ec67-4dd7-8bb6-afa6ece388d8",
   "metadata": {},
   "source": [
    "<a id=\"section-1\"></a>\n",
    "### Imports, global parameters, functions\n",
    "---"
   ]
  },
  {
   "cell_type": "code",
   "execution_count": 1,
   "id": "409b9ebb-7312-4839-bec1-ae1eabb3a21f",
   "metadata": {
    "tags": []
   },
   "outputs": [],
   "source": [
    "# start with the imports we would need\n",
    "import warnings # suppress pallette-related matplotlib warnings\n",
    "from hashlib import md5 # do the splitting with this hash\n",
    "import numpy as np\n",
    "import matplotlib.pyplot as plt\n",
    "import matplotlib.axes as axes\n",
    "import statsmodels.api as sm\n",
    "import scipy.stats as stats\n",
    "import pandas as pd\n",
    "import swifter # applies any function to a pandas df or series faster\n",
    "import pandahouse as ph # Connect with clickhouse DB\n",
    "import seaborn as sns\n"
   ]
  },
  {
   "cell_type": "code",
   "execution_count": 2,
   "id": "f0eb5e3d-aadc-41bd-ab77-c9b75e91d424",
   "metadata": {
    "tags": []
   },
   "outputs": [],
   "source": [
    "# set the connection with the db\n",
    "CONNECTION = {'host': 'https://clickhouse.lab.karpov.courses',\n",
    "                      'database':'simulator_20230720',\n",
    "                      'user':'student', \n",
    "                      'password':'dpo_python_2020'\n",
    "                     }\n"
   ]
  },
  {
   "cell_type": "code",
   "execution_count": 60,
   "id": "3e3cc425-97ae-42cd-beb9-da590e17fb99",
   "metadata": {},
   "outputs": [],
   "source": [
    "# set quality of the plots to be built\n",
    "plt.rcParams['figure.dpi'] = 300\n",
    "plt.rcParams['savefig.dpi'] = 300\n",
    "\n",
    "# Set the scaling factors for the plots\n",
    "SCALE = 1 / 6\n",
    "sns.set(font_scale=0.25)\n",
    "\n",
    "# suppress pallette-related matplotlib warnings\n",
    "warnings.filterwarnings('ignore', category=UserWarning)"
   ]
  },
  {
   "cell_type": "code",
   "execution_count": 4,
   "id": "b93bba0a-1fa6-4eb9-9712-dc6c0b1db78f",
   "metadata": {},
   "outputs": [],
   "source": [
    "# get a class that plots two histograms of the same plot \n",
    "# given an axis grid and font sizes\n",
    "\n",
    "class HistPlotter:\n",
    "    \n",
    "    # initialize a class object with data and annotation parameters\n",
    "    def __init__(\n",
    "        self, \n",
    "        data,\n",
    "        x,\n",
    "        hue,\n",
    "        xlabel=None,\n",
    "        ylabel=None,\n",
    "        title=None,\n",
    "    ):\n",
    "        self.data = data\n",
    "        self.x = x\n",
    "        self.hue = hue\n",
    "        self.xlabel = xlabel\n",
    "        self.ylabel = ylabel\n",
    "        self.title = title\n",
    "\n",
    "    # plot two histograms on the same plot given a grid axis\n",
    "    def plot(\n",
    "        self,\n",
    "        ax,\n",
    "        SCALE=1/ 6,\n",
    "        bins=100,\n",
    "        fontsize=18,\n",
    "        labelsize=15\n",
    "    ):\n",
    "    \n",
    "        # set fonts\n",
    "        fontsize=fontsize * SCALE\n",
    "        labelsize=labelsize * SCALE\n",
    "        sns.set(font_scale=0.25)\n",
    "        \n",
    "        # adjust fonts and ticks\n",
    "        ax.set_xlabel(self.xlabel, fontsize=fontsize)\n",
    "        ax.set_ylabel(self.ylabel, fontsize=fontsize)\n",
    "        ax.set_title(self.title, fontsize=fontsize)\n",
    "\n",
    "        ax.tick_params(axis='y', labelsize=labelsize)\n",
    "        ax.tick_params(axis='x', rotation=45, labelsize=labelsize)\n",
    "\n",
    "        # create a histogram for each group\n",
    "        sns.histplot(\n",
    "            data=self.data,\n",
    "            x=self.x,\n",
    "                      hue=self.hue, \n",
    "                      palette=sns.color_palette('bright', as_cmap = True),\n",
    "                      alpha=0.4,\n",
    "                      kde=False,\n",
    "                        ax=ax,\n",
    "                        bins=bins\n",
    "        )\n"
   ]
  },
  {
   "cell_type": "markdown",
   "id": "24ed4de3-eec1-45d9-8570-78f7c2fcb9d3",
   "metadata": {},
   "source": [
    "<a id=\"section-2\"></a>\n",
    "### Marketing campaign: analysis of metrics with Casualmpact\n",
    "---\n",
    "Our team of marketers decided to organize a campaign in the news feed: participants must make a post where they share an interesting fact about themselves and publish it with a hashtag. The three posts that receive the most likes will win prizes.\n",
    "\n",
    "The flash mob took place from 2023-07-14 to 2023-07-20. Your task as an analyst is to evaluate the effectiveness of this event.\n",
    "\n",
    "Questions:\n",
    "  - Which metrics were affected and how by the campaign?\n",
    "  - has the metric analyzed indeed changed?\n",
    "  - Was there any long-term effect of this campaign?\n",
    "  \n",
    "To do:\n",
    "  - Propose which metrics might have changed and, suggest the trend.\n",
    "  - Vizualize the metrics and test the hypothesis with CasualImpact.\n",
    "  - Look in the data after the campaign and look for the long-term effects."
   ]
  },
  {
   "cell_type": "markdown",
   "id": "d4f489eb-a848-4bf0-8f2f-75b704dcc80f",
   "metadata": {},
   "source": [
    "#### 1. Metrics to be analyzed\n",
    "\n",
    "Let's assume which metrics could have changed during the campaign and how.\n",
    "- Number of posts created: increase (people are posting more during the campaign) or the same (non-posters not getting active in the campaign).\n",
    "- Number of views or likes: increase (more posts lead to more views or posts are better shown/advertised).\n",
    "- Likes or views per post: decrease (more posts, but same activity of viewers) or increase (increased quality/availability of posts).\n",
    "- Click-through rate (CTR): Decrease (more \"artificial\" posts might lead to lower quality and conversion rate).\n",
    "- Daily active users (DAU): Increase (existing users become more active, and new users join because of the campaign).\n",
    "- Retention: Increase initially, then possibly decrease after the campaign (some people might participate solely for the prizes).\n",
    "\n",
    "To visualize and further have a deep dive into the data, we would need "
   ]
  },
  {
   "cell_type": "markdown",
   "id": "75587cb6-c4f6-4d0c-8456-a2dc8827195a",
   "metadata": {},
   "source": [
    "<a id=\"section-3\"></a>\n",
    "### Forecasting: users activity within 1 month with Orbit\n",
    "---\n",
    "[Text for Section 3 goes here.]\n"
   ]
  },
  {
   "cell_type": "markdown",
   "id": "ce7b59a0-3183-4934-aa8d-f7efe572ca13",
   "metadata": {},
   "source": [
    "Задача 2\n",
    "\n",
    "Чем активнее наши пользователи – тем выше нагрузка на сервера. И в последнее время нам всё чаще приходят жалобы, что приложение подвисает. Звучит как задача для девопсов и инженеров!\n",
    "\n",
    "От вас тоже попросили внести свой вклад в задачу – спрогнозировать, как изменится активность пользователей в течение ближайшего месяца. Давайте попробуем это сделать!\n",
    "\n",
    "    Выберите основную метрику, которую вы планируете прогнозировать. Обоснуйте, почему именно она. Какое временное разрешение вы возьмёте? Будут ли какие-то дополнительные регрессоры, которые вы включите в модель?\n",
    "    Постройте модель и провалидируйте её. Хватает ли у нас данных для бэккастинга с текущей задачей? Если нет, то определите, для какого горизонта прогнозирования у нас хватает данных.\n",
    "    Выберите ту модель, которая кажется вам наиболее удачной (обоснуйте выбор). Проинтерпретируйте её результаты. Если видите какие-то важные ограничения по выводу – не забудьте их тоже указать.\n",
    "\n",
    "Бонус: опишите, насколько удобным для использования вам показался Orbit. Если есть опыт использования других прогнозных инструментов (Prophet, Darts и т.д.) – сравните Orbit с ними по тем признакам, которые вам кажутся наиболее важными.\n",
    "\n",
    "Формат сдачи задания – merge request в GitLab с ноутбуком, где выполнены вычисления (формат .ipynb)."
   ]
  },
  {
   "cell_type": "code",
   "execution_count": null,
   "id": "bf376d4d-af2d-4f4c-93dc-f4d7cb06f899",
   "metadata": {},
   "outputs": [],
   "source": []
  }
 ],
 "metadata": {
  "kernelspec": {
   "display_name": "Python 3 (ipykernel)",
   "language": "python",
   "name": "python3"
  },
  "language_info": {
   "codemirror_mode": {
    "name": "ipython",
    "version": 3
   },
   "file_extension": ".py",
   "mimetype": "text/x-python",
   "name": "python",
   "nbconvert_exporter": "python",
   "pygments_lexer": "ipython3",
   "version": "3.8.10"
  }
 },
 "nbformat": 4,
 "nbformat_minor": 5
}
