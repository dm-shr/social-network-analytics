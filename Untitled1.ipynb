{
 "cells": [
  {
   "cell_type": "code",
   "execution_count": 1,
   "id": "bd1f363d-3260-4bbf-ada1-40d9c5963e53",
   "metadata": {},
   "outputs": [],
   "source": [
    "def gen(lst):\n",
    "    for el in lst:\n",
    "        yield el\n"
   ]
  },
  {
   "cell_type": "code",
   "execution_count": 9,
   "id": "9107d701-4426-4b7e-9b5b-f9aac1c968dc",
   "metadata": {},
   "outputs": [],
   "source": [
    "lst = ['a', 't', 'u']\n",
    "g = gen(lst)\n"
   ]
  },
  {
   "cell_type": "code",
   "execution_count": 10,
   "id": "254a40e1-b1c4-4a23-b9b4-09684977f739",
   "metadata": {},
   "outputs": [
    {
     "data": {
      "text/plain": [
       "'a'"
      ]
     },
     "execution_count": 10,
     "metadata": {},
     "output_type": "execute_result"
    }
   ],
   "source": [
    "v1 = next(g)\n",
    "v1"
   ]
  },
  {
   "cell_type": "code",
   "execution_count": 13,
   "id": "5daca134-c7fe-451e-850d-3a0ae42e8512",
   "metadata": {},
   "outputs": [
    {
     "data": {
      "text/plain": [
       "'t'"
      ]
     },
     "execution_count": 13,
     "metadata": {},
     "output_type": "execute_result"
    }
   ],
   "source": [
    "v1 = next(g)\n",
    "v1"
   ]
  },
  {
   "cell_type": "code",
   "execution_count": 14,
   "id": "a25bdb40-1027-43dc-815c-c6a0f2d3ebc9",
   "metadata": {},
   "outputs": [
    {
     "data": {
      "text/plain": [
       "[5, 4, 55]"
      ]
     },
     "execution_count": 14,
     "metadata": {},
     "output_type": "execute_result"
    }
   ],
   "source": [
    "a = [5, 4, 55]\n",
    "a"
   ]
  },
  {
   "cell_type": "code",
   "execution_count": 15,
   "id": "0aaa63c9-d3f7-4d02-89bc-5ad438e384d4",
   "metadata": {},
   "outputs": [
    {
     "data": {
      "text/plain": [
       "<list_iterator at 0x7f51ec6bb400>"
      ]
     },
     "execution_count": 15,
     "metadata": {},
     "output_type": "execute_result"
    }
   ],
   "source": [
    "iter(a)"
   ]
  },
  {
   "cell_type": "code",
   "execution_count": 26,
   "id": "328ba172-3c2d-445e-aa2f-531c18edc46b",
   "metadata": {},
   "outputs": [
    {
     "data": {
      "text/plain": [
       "5"
      ]
     },
     "execution_count": 26,
     "metadata": {},
     "output_type": "execute_result"
    }
   ],
   "source": [
    "q = next(iter(a))\n",
    "q"
   ]
  },
  {
   "cell_type": "code",
   "execution_count": 25,
   "id": "585be45f-f441-4e98-8cae-f8cd68caebb0",
   "metadata": {},
   "outputs": [
    {
     "name": "stdout",
     "output_type": "stream",
     "text": [
      "5\n",
      "4\n",
      "55\n"
     ]
    }
   ],
   "source": [
    "for i in iter(a):\n",
    "    print(i)"
   ]
  },
  {
   "cell_type": "code",
   "execution_count": 27,
   "id": "33e40b45-7c52-4255-94b1-789f15009729",
   "metadata": {},
   "outputs": [
    {
     "data": {
      "text/plain": [
       "5"
      ]
     },
     "execution_count": 27,
     "metadata": {},
     "output_type": "execute_result"
    }
   ],
   "source": [
    "q = next(iter(a))\n",
    "q"
   ]
  },
  {
   "cell_type": "code",
   "execution_count": 28,
   "id": "0be6e377-ffa8-4930-8327-10504330bf43",
   "metadata": {},
   "outputs": [
    {
     "data": {
      "text/plain": [
       "5"
      ]
     },
     "execution_count": 28,
     "metadata": {},
     "output_type": "execute_result"
    }
   ],
   "source": [
    "q"
   ]
  },
  {
   "cell_type": "code",
   "execution_count": null,
   "id": "5077c2f6-56f0-4452-8700-749bca6f4b33",
   "metadata": {},
   "outputs": [],
   "source": []
  }
 ],
 "metadata": {
  "kernelspec": {
   "display_name": "Python 3 (ipykernel)",
   "language": "python",
   "name": "python3"
  },
  "language_info": {
   "codemirror_mode": {
    "name": "ipython",
    "version": 3
   },
   "file_extension": ".py",
   "mimetype": "text/x-python",
   "name": "python",
   "nbconvert_exporter": "python",
   "pygments_lexer": "ipython3",
   "version": "3.8.10"
  }
 },
 "nbformat": 4,
 "nbformat_minor": 5
}
