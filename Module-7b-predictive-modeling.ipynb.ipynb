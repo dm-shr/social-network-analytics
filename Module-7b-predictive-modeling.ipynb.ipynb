{
 "cells": [
  {
   "cell_type": "markdown",
   "id": "f68440be-521c-44f1-9b5d-9f2184fbd7af",
   "metadata": {
    "tags": []
   },
   "source": [
    "## Part 7b: Predictive Modeling with Orbit\n",
    "---\n",
    "In this section, we employ the tools of predictivte analytics to measure short- and long-term impact of the marketing campaign on user metrics by using CausalImpact libraby, which is Google's Causal Impact Algorithm implemented on top of TensorFlow Probability.\n",
    "  - forecast the future user acitivity to plan the workload on the server\n",
    "\n",
    "### Table of Contents\n",
    "- [Imports, global parameters, functions](#section-1)\n",
    "- [Marketing campaign: analysis of metrics with Casualmpact](#section-2)\n",
    "- [Forecasting: users activity within 1 month](#section-3)\n"
   ]
  },
  {
   "cell_type": "markdown",
   "id": "e79349da-daa1-4824-83d2-f8371faff71e",
   "metadata": {},
   "source": [
    "<a id=\"section-3\"></a>\n",
    "### Forecasting: users activity within 1 month with Orbit\n",
    "---\n",
    "[Text for Section 3 goes here.]\n"
   ]
  },
  {
   "cell_type": "markdown",
   "id": "e30b8794-c078-4f88-9b4d-ef7e9b7887ae",
   "metadata": {},
   "source": []
  },
  {
   "cell_type": "markdown",
   "id": "500c72a3-537c-42f0-8f1a-dc9a97c0070f",
   "metadata": {},
   "source": [
    "<a id=\"section-3\"></a>\n",
    "### Forecasting: users activity within 1 month with Orbit\n",
    "---\n",
    "[Text for Section 3 goes here.]\n"
   ]
  },
  {
   "cell_type": "markdown",
   "id": "9139cbea-b649-4a37-bc10-be91b77dc570",
   "metadata": {},
   "source": [
    "Задача 2\n",
    "\n",
    "Чем активнее наши пользователи – тем выше нагрузка на сервера. И в последнее время нам всё чаще приходят жалобы, что приложение подвисает. Звучит как задача для девопсов и инженеров!\n",
    "\n",
    "От вас тоже попросили внести свой вклад в задачу – спрогнозировать, как изменится активность пользователей в течение ближайшего месяца. Давайте попробуем это сделать!\n",
    "\n",
    "    Выберите основную метрику, которую вы планируете прогнозировать. Обоснуйте, почему именно она. Какое временное разрешение вы возьмёте? Будут ли какие-то дополнительные регрессоры, которые вы включите в модель?\n",
    "    Постройте модель и провалидируйте её. Хватает ли у нас данных для бэккастинга с текущей задачей? Если нет, то определите, для какого горизонта прогнозирования у нас хватает данных.\n",
    "    Выберите ту модель, которая кажется вам наиболее удачной (обоснуйте выбор). Проинтерпретируйте её результаты. Если видите какие-то важные ограничения по выводу – не забудьте их тоже указать.\n",
    "\n",
    "Бонус: опишите, насколько удобным для использования вам показался Orbit. Если есть опыт использования других прогнозных инструментов (Prophet, Darts и т.д.) – сравните Orbit с ними по тем признакам, которые вам кажутся наиболее важными.\n",
    "\n",
    "Формат сдачи задания – merge request в GitLab с ноутбуком, где выполнены вычисления (формат .ipynb)."
   ]
  },
  {
   "cell_type": "markdown",
   "id": "a13214d1-cb68-4143-9922-99922710f5c8",
   "metadata": {},
   "source": [
    "Задача 2\n",
    "\n",
    "Чем активнее наши пользователи – тем выше нагрузка на сервера. И в последнее время нам всё чаще приходят жалобы, что приложение подвисает. Звучит как задача для девопсов и инженеров!\n",
    "\n",
    "От вас тоже попросили внести свой вклад в задачу – спрогнозировать, как изменится активность пользователей в течение ближайшего месяца. Давайте попробуем это сделать!\n",
    "\n",
    "    Выберите основную метрику, которую вы планируете прогнозировать. Обоснуйте, почему именно она. Какое временное разрешение вы возьмёте? Будут ли какие-то дополнительные регрессоры, которые вы включите в модель?\n",
    "    Постройте модель и провалидируйте её. Хватает ли у нас данных для бэккастинга с текущей задачей? Если нет, то определите, для какого горизонта прогнозирования у нас хватает данных.\n",
    "    Выберите ту модель, которая кажется вам наиболее удачной (обоснуйте выбор). Проинтерпретируйте её результаты. Если видите какие-то важные ограничения по выводу – не забудьте их тоже указать.\n",
    "\n",
    "Бонус: опишите, насколько удобным для использования вам показался Orbit. Если есть опыт использования других прогнозных инструментов (Prophet, Darts и т.д.) – сравните Orbit с ними по тем признакам, которые вам кажутся наиболее важными.\n",
    "\n",
    "Формат сдачи задания – merge request в GitLab с ноутбуком, где выполнены вычисления (формат .ipynb)."
   ]
  }
 ],
 "metadata": {
  "kernelspec": {
   "display_name": "Python 3 (ipykernel)",
   "language": "python",
   "name": "python3"
  },
  "language_info": {
   "codemirror_mode": {
    "name": "ipython",
    "version": 3
   },
   "file_extension": ".py",
   "mimetype": "text/x-python",
   "name": "python",
   "nbconvert_exporter": "python",
   "pygments_lexer": "ipython3",
   "version": "3.8.10"
  }
 },
 "nbformat": 4,
 "nbformat_minor": 5
}
