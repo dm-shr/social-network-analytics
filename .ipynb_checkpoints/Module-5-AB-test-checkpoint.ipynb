{
 "cells": [
  {
   "cell_type": "markdown",
   "id": "96f30d22-c38f-4929-bfaa-6a0ab03811af",
   "metadata": {
    "tags": []
   },
   "source": [
    "## Part 5: A/B testing\n",
    "---\n",
    "In this section, we do the A/B testing to investigate the effect of a new recomendation algorithm on CTR:\n",
    "  - split the users into the groups by hashing with salt\n",
    "  - check the equivalence of the groups metric before the test\n",
    "  - do the testing, compare different techniques.\n",
    "  - make a conclusion if the new system should be implemented."
   ]
  },
  {
   "cell_type": "markdown",
   "id": "02de3595-b278-45a9-a434-11a30fa24b40",
   "metadata": {},
   "source": [
    "### Table of Contents\n",
    "\n",
    "- [Splitting the users](#splitting-the-users): hashing with salt to do reproducible random splitting\n",
    "- [A/A testing](#aa-testing): t-testing pseudosamples from the groups, p-value distribution analysis\n",
    "- [A/B testing comparison](#ab-testing-comparison): t-test, Mann-Whitney U test. Smoothing of CTR, bootstrap, bucket testing\n",
    "- [A/B testing of linearized likes](#ab-testing-of-linearized-likes): linearize the metric to increase the sensitivity.\n"
   ]
  },
  {
   "cell_type": "markdown",
   "id": "e9be16da-939a-4471-b691-4ac78a243657",
   "metadata": {},
   "source": [
    "### Intro: imports, functions, global parameters"
   ]
  },
  {
   "cell_type": "code",
   "execution_count": 1,
   "id": "ca8b19d9-7df6-425b-a194-2a7d9c14c10a",
   "metadata": {
    "tags": []
   },
   "outputs": [],
   "source": [
    "# start with the imports we would need\n",
    "import warnings # suppress pallette-related matplotlib warnings\n",
    "\n",
    "from hashlib import md5 # do the splitting with this hash\n",
    "\n",
    "import numpy as np\n",
    "\n",
    "import statsmodels.api as sm\n",
    "import scipy.stats as stats\n",
    "\n",
    "import pandas as pd\n",
    "import swifter # applies any function to a pandas df or series faster\n",
    "import pandahouse as ph # Connect with clickhouse DB\n",
    "\n",
    "import matplotlib.pyplot as plt\n",
    "import matplotlib.axes as axes\n",
    "import seaborn as sns"
   ]
  },
  {
   "cell_type": "code",
   "execution_count": 2,
   "id": "bd0d5852-93b7-4b84-b3c9-c3289ad0939e",
   "metadata": {
    "tags": []
   },
   "outputs": [],
   "source": [
    "# set the connection with the db\n",
    "CONNECTION = {'host': 'https://clickhouse.lab.karpov.courses',\n",
    "                      'database':'simulator_20230720',\n",
    "                      'user':'student', \n",
    "                      'password':'dpo_python_2020'\n",
    "                     }\n"
   ]
  },
  {
   "cell_type": "code",
   "execution_count": 3,
   "id": "9013d98a-e2f2-438f-88e2-7de9dac4ac96",
   "metadata": {},
   "outputs": [],
   "source": [
    "# suppress pallette-related matplotlib warnings\n",
    "warnings.filterwarnings('ignore', category=UserWarning)"
   ]
  },
  {
   "cell_type": "code",
   "execution_count": 5,
   "id": "adfca4f7-726e-48de-baec-10ce415fc8d4",
   "metadata": {},
   "outputs": [],
   "source": [
    "# set the default figure quality and size\n",
    "plt.rcParams['figure.dpi'] = 100 \n",
    "plt.rcParams['figure.figsize'] = (9, 4)"
   ]
  },
  {
   "cell_type": "code",
   "execution_count": 7,
   "id": "cc48e212-ccb7-4b8f-bc57-7fbfbc62b214",
   "metadata": {},
   "outputs": [],
   "source": [
    "# make a splitting function to make user groups\n",
    "def ab_split(\n",
    "    user_id,\n",
    "    salt='exp_1', \n",
    "    n_groups=5\n",
    "):\n",
    "    # tag the id\n",
    "    salted_id = str(user_id) + '-' + salt\n",
    "    \n",
    "    # hash the id with applied md5 function \n",
    "    # and convert the hashed id into an integer\n",
    "    hashed_id = md5(salted_id.encode('ascii')).hexdigest()\n",
    "    hashed_id = int(hashed_id, 16)\n",
    "    \n",
    "    # find modulo of the hash by no. group \n",
    "    # to assign a group\n",
    "    return hashed_id % n_groups\n"
   ]
  },
  {
   "cell_type": "code",
   "execution_count": 9,
   "id": "ee109e40-3f92-48f8-8465-cc53086e797a",
   "metadata": {},
   "outputs": [],
   "source": [
    "# get a class that plots two histograms of the same plot \n",
    "# given an axis grid and font sizes\n",
    "\n",
    "class HistPlotter:\n",
    "    \n",
    "    # initialize a class object with data and annotation parameters\n",
    "    def __init__(\n",
    "        self, \n",
    "        data,\n",
    "        x,\n",
    "        hue,\n",
    "        xlabel=None,\n",
    "        ylabel=None,\n",
    "        title=None,\n",
    "    ):\n",
    "        self.data = data\n",
    "        self.x = x\n",
    "        self.hue = hue\n",
    "        self.xlabel = xlabel\n",
    "        self.ylabel = ylabel\n",
    "        self.title = title\n",
    "\n",
    "    # plot two histograms on the same plot given a grid axis\n",
    "    def plot(\n",
    "        self,\n",
    "        ax=None,\n",
    "        bins=100\n",
    "    ):\n",
    "        # make a canvas and axis if not provided as an input\n",
    "        if not ax:\n",
    "            fig, ax = plt.subplots()\n",
    "            \n",
    "        # adjust fonts and ticks\n",
    "        ax.set_xlabel(self.xlabel)\n",
    "        ax.set_ylabel(self.ylabel)\n",
    "        ax.set_title(self.title)\n",
    "\n",
    "        # create a histogram for each group\n",
    "        sns.histplot(\n",
    "            data=self.data,\n",
    "            x=self.x,\n",
    "                      hue=self.hue, \n",
    "                      palette=sns.color_palette('bright', as_cmap = True),\n",
    "                      alpha=0.4,\n",
    "                      kde=False,\n",
    "                        ax=ax,\n",
    "                        bins=bins\n",
    "        )\n",
    "        "
   ]
  },
  {
   "cell_type": "code",
   "execution_count": 10,
   "id": "9d59dc25-7802-474e-867b-5619e5d4b69d",
   "metadata": {},
   "outputs": [],
   "source": [
    "# get a function that does Laplace smoothing\n",
    "# for user CTR within each group\n",
    "def get_smoothed_ctr(\n",
    "    likes: pd.core.series.Series, \n",
    "    views: pd.core.series.Series, \n",
    "    global_ctr: float, \n",
    "    alpha: float=5\n",
    ") -> pd.core.series.Series:\n",
    "    \n",
    "    smoothed_ctr = likes.add(alpha * global_ctr).div(views.add(alpha))\n",
    "    return smoothed_ctr"
   ]
  },
  {
   "cell_type": "code",
   "execution_count": 11,
   "id": "24a5abe0-8964-4edd-ae87-3b7d959c7c10",
   "metadata": {},
   "outputs": [],
   "source": [
    "# get a function to do bootstrap\n",
    "def bootstrap(likes_control, views_control, likes_target, views_target, n_bootstrap=2000):\n",
    "    \"\"\"\n",
    "    1. The function first calculates large number (N = n_bootstrap) of arrays with weights where every \n",
    "    element of an array represents a number of occurences (weight) of a particular element \n",
    "    of the sample to be bootstrapped. \n",
    "    Every array of weights would thus represent a \"blueprint\" of a pseudosample.\n",
    "    2. Next, it calculates \"global_CTR\" for a pseudosample by calculating likes in the pseudosample\n",
    "    (sum of (likes of user X) * (weight of user X in the pseudosample))\n",
    "    and divides it by views in the pseudosample (same procedure as for likes).\n",
    "    3. Step 2 is repeated for each pseudosample for each group (control and target). \n",
    "    It finally returns two arrays: global_CTR values for the control and target groups.    \n",
    "    \"\"\"\n",
    "\n",
    "    # get the weights\n",
    "    weights_control = stats.poisson(1).rvs(\n",
    "        (n_bootstrap, \n",
    "         len(likes_control)\n",
    "        )\n",
    "    ).astype(np.int64)\n",
    "\n",
    "    weights_target = stats.poisson(1).rvs(\n",
    "        (n_bootstrap, \n",
    "         len(likes_target)\n",
    "        )\n",
    "    ).astype(np.int64)\n",
    "    \n",
    "    # get the global ctr for every pseudosample\n",
    "    global_CTR_control = (weights_control * likes_control).sum(axis=1) / (weights_control * views_control).sum(axis=1)\n",
    "    \n",
    "    global_CTR_target = (weights_target * likes_target).sum(axis=1) / (weights_target * views_target).sum(axis=1)\n",
    "\n",
    "    return global_CTR_control, global_CTR_target\n"
   ]
  },
  {
   "cell_type": "markdown",
   "id": "b1fd858b-f76e-4025-8834-d3c8a9ecd6f2",
   "metadata": {
    "tags": []
   },
   "source": [
    "<a id=\"splitting-the-users\"></a>\n",
    "\n",
    "### Splitting the users\n",
    "---\n",
    "Prior to the test, we need to split users into the testing groups.  \n",
    "\n",
    "To achieve random yet determined and reproducible splitting, let's use hashing with the salt.  \n",
    "For each user id, concatenate its string with a tag ('salt'), apply hash function to the resulting object and split into the groups."
   ]
  },
  {
   "cell_type": "code",
   "execution_count": 12,
   "id": "66eadb98-f24b-4758-a073-7d49dae6d9c0",
   "metadata": {
    "tags": []
   },
   "outputs": [],
   "source": [
    "# get a table with active users\n",
    "# during the period from 23 June to 29 June\n",
    "query = '''\n",
    "SELECT DISTINCT toString(user_id) AS user_id\n",
    "FROM {db}.feed_actions\n",
    "WHERE (time BETWEEN '2023-06-23'::DATE AND'2023-06-29'::DATE)\n",
    "'''\n",
    "\n",
    "# import a table to a dataframe\n",
    "users_to_hash = ph.read_clickhouse(\n",
    "    query, \n",
    "    connection=CONNECTION\n",
    ")\n"
   ]
  },
  {
   "cell_type": "code",
   "execution_count": 13,
   "id": "ef7b490c-3b28-41a6-b253-67d7238c8da0",
   "metadata": {},
   "outputs": [
    {
     "name": "stdout",
     "output_type": "stream",
     "text": [
      "<class 'pandas.core.frame.DataFrame'>\n",
      "RangeIndex: 39140 entries, 0 to 39139\n",
      "Data columns (total 1 columns):\n",
      " #   Column   Non-Null Count  Dtype \n",
      "---  ------   --------------  ----- \n",
      " 0   user_id  39140 non-null  object\n",
      "dtypes: object(1)\n",
      "memory usage: 305.9+ KB\n"
     ]
    }
   ],
   "source": [
    "users_to_hash.info()"
   ]
  },
  {
   "cell_type": "markdown",
   "id": "f3caef32-3e15-47a6-8074-5e947f2136eb",
   "metadata": {},
   "source": [
    "Now, classify the users into 5 groups "
   ]
  },
  {
   "cell_type": "code",
   "execution_count": 14,
   "id": "594ca668-ae35-459f-9bb5-590e188994fe",
   "metadata": {},
   "outputs": [
    {
     "data": {
      "application/json": {
       "ascii": false,
       "bar_format": null,
       "colour": null,
       "elapsed": 0.030217409133911133,
       "initial": 0,
       "n": 0,
       "ncols": null,
       "nrows": null,
       "postfix": null,
       "prefix": "Pandas Apply",
       "rate": null,
       "total": 39140,
       "unit": "it",
       "unit_divisor": 1000,
       "unit_scale": false
      },
      "application/vnd.jupyter.widget-view+json": {
       "model_id": "380d4385b8ab42028f08139095baebff",
       "version_major": 2,
       "version_minor": 0
      },
      "text/plain": [
       "Pandas Apply:   0%|          | 0/39140 [00:00<?, ?it/s]"
      ]
     },
     "metadata": {},
     "output_type": "display_data"
    },
    {
     "data": {
      "text/html": [
       "<div>\n",
       "<style scoped>\n",
       "    .dataframe tbody tr th:only-of-type {\n",
       "        vertical-align: middle;\n",
       "    }\n",
       "\n",
       "    .dataframe tbody tr th {\n",
       "        vertical-align: top;\n",
       "    }\n",
       "\n",
       "    .dataframe thead th {\n",
       "        text-align: right;\n",
       "    }\n",
       "</style>\n",
       "<table border=\"1\" class=\"dataframe\">\n",
       "  <thead>\n",
       "    <tr style=\"text-align: right;\">\n",
       "      <th></th>\n",
       "      <th>user_id</th>\n",
       "      <th>exp_group</th>\n",
       "    </tr>\n",
       "  </thead>\n",
       "  <tbody>\n",
       "    <tr>\n",
       "      <th>0</th>\n",
       "      <td>14976</td>\n",
       "      <td>3</td>\n",
       "    </tr>\n",
       "    <tr>\n",
       "      <th>1</th>\n",
       "      <td>115469</td>\n",
       "      <td>4</td>\n",
       "    </tr>\n",
       "    <tr>\n",
       "      <th>2</th>\n",
       "      <td>120841</td>\n",
       "      <td>1</td>\n",
       "    </tr>\n",
       "    <tr>\n",
       "      <th>3</th>\n",
       "      <td>123499</td>\n",
       "      <td>1</td>\n",
       "    </tr>\n",
       "    <tr>\n",
       "      <th>4</th>\n",
       "      <td>116372</td>\n",
       "      <td>2</td>\n",
       "    </tr>\n",
       "  </tbody>\n",
       "</table>\n",
       "</div>"
      ],
      "text/plain": [
       "  user_id  exp_group\n",
       "0   14976          3\n",
       "1  115469          4\n",
       "2  120841          1\n",
       "3  123499          1\n",
       "4  116372          2"
      ]
     },
     "execution_count": 14,
     "metadata": {},
     "output_type": "execute_result"
    }
   ],
   "source": [
    "users_to_hash['exp_group'] = users_to_hash.user_id.swifter.apply(ab_split)\n",
    "users_to_hash.head()"
   ]
  },
  {
   "cell_type": "markdown",
   "id": "99ad77c6-f850-48c8-9c30-6ed0be6e6358",
   "metadata": {},
   "source": [
    "Let's see group sizes - are they euqal?"
   ]
  },
  {
   "cell_type": "code",
   "execution_count": 15,
   "id": "3685e801-7116-42b0-a95e-5f69f199581f",
   "metadata": {},
   "outputs": [
    {
     "data": {
      "text/html": [
       "<div>\n",
       "<style scoped>\n",
       "    .dataframe tbody tr th:only-of-type {\n",
       "        vertical-align: middle;\n",
       "    }\n",
       "\n",
       "    .dataframe tbody tr th {\n",
       "        vertical-align: top;\n",
       "    }\n",
       "\n",
       "    .dataframe thead th {\n",
       "        text-align: right;\n",
       "    }\n",
       "</style>\n",
       "<table border=\"1\" class=\"dataframe\">\n",
       "  <thead>\n",
       "    <tr style=\"text-align: right;\">\n",
       "      <th></th>\n",
       "      <th>user_id</th>\n",
       "    </tr>\n",
       "    <tr>\n",
       "      <th>exp_group</th>\n",
       "      <th></th>\n",
       "    </tr>\n",
       "  </thead>\n",
       "  <tbody>\n",
       "    <tr>\n",
       "      <th>0</th>\n",
       "      <td>20.005110</td>\n",
       "    </tr>\n",
       "    <tr>\n",
       "      <th>1</th>\n",
       "      <td>19.624425</td>\n",
       "    </tr>\n",
       "    <tr>\n",
       "      <th>2</th>\n",
       "      <td>20.434338</td>\n",
       "    </tr>\n",
       "    <tr>\n",
       "      <th>3</th>\n",
       "      <td>20.329586</td>\n",
       "    </tr>\n",
       "    <tr>\n",
       "      <th>4</th>\n",
       "      <td>19.606541</td>\n",
       "    </tr>\n",
       "  </tbody>\n",
       "</table>\n",
       "</div>"
      ],
      "text/plain": [
       "             user_id\n",
       "exp_group           \n",
       "0          20.005110\n",
       "1          19.624425\n",
       "2          20.434338\n",
       "3          20.329586\n",
       "4          19.606541"
      ]
     },
     "execution_count": 15,
     "metadata": {},
     "output_type": "execute_result"
    }
   ],
   "source": [
    "grouped_counts = users_to_hash.groupby('exp_group').count()\n",
    "grouped_percentage = grouped_counts.div(grouped_counts.sum()).mul(100)\n",
    "\n",
    "grouped_percentage"
   ]
  },
  {
   "cell_type": "markdown",
   "id": "b506804c-15c1-46a8-8ad2-ae6df99cb883",
   "metadata": {},
   "source": [
    "The groups seem to be euqal in sizes. Let's proceed further."
   ]
  },
  {
   "cell_type": "markdown",
   "id": "cae523fc-9019-4c31-a902-af8e4d6daee3",
   "metadata": {
    "tags": []
   },
   "source": [
    "<a id=\"aa-testing\"></a>\n",
    "\n",
    "### A/A testing\n",
    "---\n",
    "Before the A/B testing on groups 1 and 2, we need to do the A/A test on these groups to control that their CTR is statiscally euqivalent.  \n",
    "For this, we will repeatedly take subsamples from each group, conduct paired t-tests, and then see how frequently the resulting p-value gets below significance level on 0.05 (how often we were to reject the null hypothesis).\n",
    "\n",
    "We will simulate 10 000 A/A tests. In each iteration, we form subsamples without replacement of 500 users from both the 1nd and 2nd experimental groups. Then, we conduct a t-test to compare these subsamples.\n",
    "\n",
    "1. Build a histogram representing the distribution of the resulting 10000 p-values.\n",
    "\n",
    "2. Calculate the frequency of getting p-values less than or equal to 0.05.\n",
    "\n"
   ]
  },
  {
   "cell_type": "markdown",
   "id": "8514cb6d-b4f3-492b-8c3a-85321b200ae1",
   "metadata": {
    "tags": []
   },
   "source": [
    "#### 1. Groups overview\n",
    "\n",
    "Let's see at how user CTR is distributed between the groups."
   ]
  },
  {
   "cell_type": "code",
   "execution_count": 16,
   "id": "8a19cf4a-648f-415b-90ce-7ebd2d67228c",
   "metadata": {
    "tags": []
   },
   "outputs": [],
   "source": [
    "# get a table with users from groups 1 and 2 and their ctr\n",
    "# during the period from 23 June to 29 June\n",
    "query = '''\n",
    "SELECT user_id,\n",
    "exp_group,\n",
    "likes,\n",
    "views,\n",
    "likes::FLOAT / views AS ctr\n",
    "FROM (\n",
    "SELECT user_id, \n",
    "exp_group,\n",
    "countIf(action = 'like') AS likes,\n",
    "countIf(action = 'view') AS views\n",
    "FROM simulator_20230720.feed_actions\n",
    "WHERE (time BETWEEN '2023-06-23'::DATE AND'2023-06-29'::DATE) \n",
    "AND exp_group IN (1, 2)\n",
    "GROUP BY user_id, exp_group \n",
    ") aggregated_likes\n",
    "'''\n",
    "\n",
    "# import a table to a dataframe\n",
    "user_ctr_aa_1_2 = ph.read_clickhouse(\n",
    "    query, \n",
    "    connection=CONNECTION\n",
    ")\n"
   ]
  },
  {
   "cell_type": "code",
   "execution_count": 17,
   "id": "60a19da8-4773-4a29-9183-5c732aff7483",
   "metadata": {},
   "outputs": [
    {
     "data": {
      "text/html": [
       "<div>\n",
       "<style scoped>\n",
       "    .dataframe tbody tr th:only-of-type {\n",
       "        vertical-align: middle;\n",
       "    }\n",
       "\n",
       "    .dataframe tbody tr th {\n",
       "        vertical-align: top;\n",
       "    }\n",
       "\n",
       "    .dataframe thead th {\n",
       "        text-align: right;\n",
       "    }\n",
       "</style>\n",
       "<table border=\"1\" class=\"dataframe\">\n",
       "  <thead>\n",
       "    <tr style=\"text-align: right;\">\n",
       "      <th></th>\n",
       "      <th>user_id</th>\n",
       "      <th>exp_group</th>\n",
       "      <th>likes</th>\n",
       "      <th>views</th>\n",
       "      <th>ctr</th>\n",
       "    </tr>\n",
       "  </thead>\n",
       "  <tbody>\n",
       "    <tr>\n",
       "      <th>count</th>\n",
       "      <td>15750.000000</td>\n",
       "      <td>15750.000</td>\n",
       "      <td>15750.000000</td>\n",
       "      <td>15750.000000</td>\n",
       "      <td>15750.000000</td>\n",
       "    </tr>\n",
       "    <tr>\n",
       "      <th>mean</th>\n",
       "      <td>70890.997968</td>\n",
       "      <td>1.496</td>\n",
       "      <td>13.511429</td>\n",
       "      <td>63.960825</td>\n",
       "      <td>0.220200</td>\n",
       "    </tr>\n",
       "    <tr>\n",
       "      <th>std</th>\n",
       "      <td>53241.223939</td>\n",
       "      <td>0.500</td>\n",
       "      <td>9.371593</td>\n",
       "      <td>42.814770</td>\n",
       "      <td>0.086453</td>\n",
       "    </tr>\n",
       "    <tr>\n",
       "      <th>min</th>\n",
       "      <td>206.000000</td>\n",
       "      <td>1.000</td>\n",
       "      <td>0.000000</td>\n",
       "      <td>1.000000</td>\n",
       "      <td>0.000000</td>\n",
       "    </tr>\n",
       "    <tr>\n",
       "      <th>25%</th>\n",
       "      <td>16032.500000</td>\n",
       "      <td>1.000</td>\n",
       "      <td>7.000000</td>\n",
       "      <td>31.000000</td>\n",
       "      <td>0.165354</td>\n",
       "    </tr>\n",
       "    <tr>\n",
       "      <th>50%</th>\n",
       "      <td>108437.500000</td>\n",
       "      <td>1.000</td>\n",
       "      <td>12.000000</td>\n",
       "      <td>54.000000</td>\n",
       "      <td>0.206897</td>\n",
       "    </tr>\n",
       "    <tr>\n",
       "      <th>75%</th>\n",
       "      <td>121511.750000</td>\n",
       "      <td>2.000</td>\n",
       "      <td>18.000000</td>\n",
       "      <td>87.000000</td>\n",
       "      <td>0.263158</td>\n",
       "    </tr>\n",
       "    <tr>\n",
       "      <th>max</th>\n",
       "      <td>133173.000000</td>\n",
       "      <td>2.000</td>\n",
       "      <td>89.000000</td>\n",
       "      <td>328.000000</td>\n",
       "      <td>0.857143</td>\n",
       "    </tr>\n",
       "  </tbody>\n",
       "</table>\n",
       "</div>"
      ],
      "text/plain": [
       "             user_id  exp_group         likes         views           ctr\n",
       "count   15750.000000  15750.000  15750.000000  15750.000000  15750.000000\n",
       "mean    70890.997968      1.496     13.511429     63.960825      0.220200\n",
       "std     53241.223939      0.500      9.371593     42.814770      0.086453\n",
       "min       206.000000      1.000      0.000000      1.000000      0.000000\n",
       "25%     16032.500000      1.000      7.000000     31.000000      0.165354\n",
       "50%    108437.500000      1.000     12.000000     54.000000      0.206897\n",
       "75%    121511.750000      2.000     18.000000     87.000000      0.263158\n",
       "max    133173.000000      2.000     89.000000    328.000000      0.857143"
      ]
     },
     "execution_count": 17,
     "metadata": {},
     "output_type": "execute_result"
    }
   ],
   "source": [
    "# see the basic details of the df\n",
    "user_ctr_aa_1_2.describe()"
   ]
  },
  {
   "cell_type": "code",
   "execution_count": 18,
   "id": "9e3a63c9-1747-4749-921b-f608459a6a8f",
   "metadata": {},
   "outputs": [
    {
     "data": {
      "text/html": [
       "<div>\n",
       "<style scoped>\n",
       "    .dataframe tbody tr th:only-of-type {\n",
       "        vertical-align: middle;\n",
       "    }\n",
       "\n",
       "    .dataframe tbody tr th {\n",
       "        vertical-align: top;\n",
       "    }\n",
       "\n",
       "    .dataframe thead th {\n",
       "        text-align: right;\n",
       "    }\n",
       "</style>\n",
       "<table border=\"1\" class=\"dataframe\">\n",
       "  <thead>\n",
       "    <tr style=\"text-align: right;\">\n",
       "      <th></th>\n",
       "      <th>user_id</th>\n",
       "      <th>exp_group</th>\n",
       "      <th>likes</th>\n",
       "      <th>views</th>\n",
       "      <th>ctr</th>\n",
       "    </tr>\n",
       "  </thead>\n",
       "  <tbody>\n",
       "    <tr>\n",
       "      <th>0</th>\n",
       "      <td>109963</td>\n",
       "      <td>1</td>\n",
       "      <td>10</td>\n",
       "      <td>34</td>\n",
       "      <td>0.294118</td>\n",
       "    </tr>\n",
       "    <tr>\n",
       "      <th>1</th>\n",
       "      <td>18392</td>\n",
       "      <td>1</td>\n",
       "      <td>13</td>\n",
       "      <td>56</td>\n",
       "      <td>0.232143</td>\n",
       "    </tr>\n",
       "    <tr>\n",
       "      <th>2</th>\n",
       "      <td>131473</td>\n",
       "      <td>2</td>\n",
       "      <td>9</td>\n",
       "      <td>41</td>\n",
       "      <td>0.219512</td>\n",
       "    </tr>\n",
       "    <tr>\n",
       "      <th>3</th>\n",
       "      <td>23985</td>\n",
       "      <td>2</td>\n",
       "      <td>6</td>\n",
       "      <td>17</td>\n",
       "      <td>0.352941</td>\n",
       "    </tr>\n",
       "    <tr>\n",
       "      <th>4</th>\n",
       "      <td>24523</td>\n",
       "      <td>2</td>\n",
       "      <td>2</td>\n",
       "      <td>10</td>\n",
       "      <td>0.200000</td>\n",
       "    </tr>\n",
       "  </tbody>\n",
       "</table>\n",
       "</div>"
      ],
      "text/plain": [
       "   user_id  exp_group  likes  views       ctr\n",
       "0   109963          1     10     34  0.294118\n",
       "1    18392          1     13     56  0.232143\n",
       "2   131473          2      9     41  0.219512\n",
       "3    23985          2      6     17  0.352941\n",
       "4    24523          2      2     10  0.200000"
      ]
     },
     "execution_count": 18,
     "metadata": {},
     "output_type": "execute_result"
    }
   ],
   "source": [
    "user_ctr_aa_1_2.head()"
   ]
  },
  {
   "cell_type": "code",
   "execution_count": 19,
   "id": "f1786876-7090-454f-9f14-2cf873afdc7f",
   "metadata": {
    "tags": []
   },
   "outputs": [
    {
     "data": {
      "text/plain": [
       "exp_group\n",
       "1    7938\n",
       "2    7812\n",
       "Name: user_id, dtype: int64"
      ]
     },
     "execution_count": 19,
     "metadata": {},
     "output_type": "execute_result"
    }
   ],
   "source": [
    "# Let`s see how many users we have within each group\n",
    "# - are the sizes equal?\n",
    "user_ctr_aa_1_2.groupby('exp_group').user_id.count()"
   ]
  },
  {
   "cell_type": "markdown",
   "id": "7ef3bcb5-78c6-4444-83a0-6d1a7d6a9a27",
   "metadata": {},
   "source": [
    "Sizes are euqal. Let's go ahead and compare user CTRs distrubution between the groups."
   ]
  },
  {
   "cell_type": "code",
   "execution_count": 20,
   "id": "692bce74-e168-42b9-ba6e-e91ec05971b0",
   "metadata": {},
   "outputs": [
    {
     "data": {
      "image/png": "[encoded data removed]",
      "text/plain": [
       "<Figure size 900x400 with 1 Axes>"
      ]
     },
     "metadata": {
      "needs_background": "light"
     },
     "output_type": "display_data"
    }
   ],
   "source": [
    "# make a canvas, set sizes\n",
    "\n",
    "user_ctr_aa = HistPlotter(\n",
    "    data=user_ctr_aa_1_2,\n",
    "    x='ctr', \n",
    "    hue='exp_group',  \n",
    "    xlabel='user CTR',\n",
    "    ylabel='Count',\n",
    "    title='User CTR by Exp Group before A/B testing'\n",
    ")\n",
    "\n",
    "user_ctr_aa.plot()\n"
   ]
  },
  {
   "cell_type": "markdown",
   "id": "e4f91037-58ba-4f13-a762-53e9ba2e5502",
   "metadata": {},
   "source": [
    "CTRs within two groups have equal distribution and seem to be almost equivalent. "
   ]
  },
  {
   "cell_type": "markdown",
   "id": "093432f9-a23f-42eb-a31c-f81736e1d165",
   "metadata": {},
   "source": [
    "#### 2. Subsampling and paired t-test\n",
    "\n",
    "Let's take subsamples from the groups many times and compare them by t-test. How often would the resulting p-values lie below confidence level?"
   ]
  },
  {
   "cell_type": "code",
   "execution_count": 21,
   "id": "c95c35f2-226c-4417-af1b-9d06eb0eb1d1",
   "metadata": {},
   "outputs": [
    {
     "data": {
      "text/html": [
       "<div>\n",
       "<style scoped>\n",
       "    .dataframe tbody tr th:only-of-type {\n",
       "        vertical-align: middle;\n",
       "    }\n",
       "\n",
       "    .dataframe tbody tr th {\n",
       "        vertical-align: top;\n",
       "    }\n",
       "\n",
       "    .dataframe thead th {\n",
       "        text-align: right;\n",
       "    }\n",
       "</style>\n",
       "<table border=\"1\" class=\"dataframe\">\n",
       "  <thead>\n",
       "    <tr style=\"text-align: right;\">\n",
       "      <th></th>\n",
       "      <th>user_id</th>\n",
       "      <th>exp_group</th>\n",
       "      <th>likes</th>\n",
       "      <th>views</th>\n",
       "      <th>ctr</th>\n",
       "    </tr>\n",
       "  </thead>\n",
       "  <tbody>\n",
       "    <tr>\n",
       "      <th>count</th>\n",
       "      <td>7938.000000</td>\n",
       "      <td>7938.0</td>\n",
       "      <td>7938.000000</td>\n",
       "      <td>7938.000000</td>\n",
       "      <td>7938.000000</td>\n",
       "    </tr>\n",
       "    <tr>\n",
       "      <th>mean</th>\n",
       "      <td>71417.034895</td>\n",
       "      <td>1.0</td>\n",
       "      <td>13.510834</td>\n",
       "      <td>64.073948</td>\n",
       "      <td>0.220003</td>\n",
       "    </tr>\n",
       "    <tr>\n",
       "      <th>std</th>\n",
       "      <td>53177.159191</td>\n",
       "      <td>0.0</td>\n",
       "      <td>9.289267</td>\n",
       "      <td>42.801963</td>\n",
       "      <td>0.086076</td>\n",
       "    </tr>\n",
       "    <tr>\n",
       "      <th>min</th>\n",
       "      <td>206.000000</td>\n",
       "      <td>1.0</td>\n",
       "      <td>0.000000</td>\n",
       "      <td>4.000000</td>\n",
       "      <td>0.000000</td>\n",
       "    </tr>\n",
       "    <tr>\n",
       "      <th>25%</th>\n",
       "      <td>16161.750000</td>\n",
       "      <td>1.0</td>\n",
       "      <td>7.000000</td>\n",
       "      <td>32.000000</td>\n",
       "      <td>0.166667</td>\n",
       "    </tr>\n",
       "    <tr>\n",
       "      <th>50%</th>\n",
       "      <td>108649.500000</td>\n",
       "      <td>1.0</td>\n",
       "      <td>12.000000</td>\n",
       "      <td>55.000000</td>\n",
       "      <td>0.206897</td>\n",
       "    </tr>\n",
       "    <tr>\n",
       "      <th>75%</th>\n",
       "      <td>121667.250000</td>\n",
       "      <td>1.0</td>\n",
       "      <td>18.000000</td>\n",
       "      <td>87.000000</td>\n",
       "      <td>0.262295</td>\n",
       "    </tr>\n",
       "    <tr>\n",
       "      <th>max</th>\n",
       "      <td>132176.000000</td>\n",
       "      <td>1.0</td>\n",
       "      <td>89.000000</td>\n",
       "      <td>304.000000</td>\n",
       "      <td>0.857143</td>\n",
       "    </tr>\n",
       "  </tbody>\n",
       "</table>\n",
       "</div>"
      ],
      "text/plain": [
       "             user_id  exp_group        likes        views          ctr\n",
       "count    7938.000000     7938.0  7938.000000  7938.000000  7938.000000\n",
       "mean    71417.034895        1.0    13.510834    64.073948     0.220003\n",
       "std     53177.159191        0.0     9.289267    42.801963     0.086076\n",
       "min       206.000000        1.0     0.000000     4.000000     0.000000\n",
       "25%     16161.750000        1.0     7.000000    32.000000     0.166667\n",
       "50%    108649.500000        1.0    12.000000    55.000000     0.206897\n",
       "75%    121667.250000        1.0    18.000000    87.000000     0.262295\n",
       "max    132176.000000        1.0    89.000000   304.000000     0.857143"
      ]
     },
     "execution_count": 21,
     "metadata": {},
     "output_type": "execute_result"
    }
   ],
   "source": [
    "# make separate dataframes for each group\n",
    "# to make sampling for AA test easier\n",
    "control_group = user_ctr_aa_1_2.loc[user_ctr_aa_1_2.exp_group == 1]\n",
    "target_group = user_ctr_aa_1_2.loc[user_ctr_aa_1_2.exp_group == 2]\n",
    "\n",
    "control_group.describe()\n"
   ]
  },
  {
   "cell_type": "code",
   "execution_count": 22,
   "id": "24ed5472-8004-4b7b-8af3-dc7b7f3db422",
   "metadata": {},
   "outputs": [],
   "source": [
    "# now to the AA test:\n",
    "\n",
    "# create a list to append p-values to \n",
    "pvalues = []\n",
    "\n",
    "# set values for a number of iterations and sample size\n",
    "iterations = 10000\n",
    "sample_size = 500\n",
    "\n",
    "# perform AA test multiple times:\n",
    "# take subsamples from our groups\n",
    "# and compare them by paired t-test\n",
    "for _ in range(iterations):\n",
    "    control_sample = control_group.ctr.sample(sample_size, replace=False).tolist()\n",
    "    target_sample = target_group.ctr.sample(sample_size, replace=False).tolist()\n",
    "    \n",
    "    results = sm.stats.ttest_ind(\n",
    "        control_sample,\n",
    "        target_sample,\n",
    "        usevar='unequal'\n",
    "    )\n",
    "    \n",
    "    # take p-value from a test to a separate array\n",
    "    pvalues.append(results[1])\n",
    "    \n",
    "pvalues_aa_1_2 = pd.DataFrame({'p_value': pvalues})\n"
   ]
  },
  {
   "cell_type": "code",
   "execution_count": 23,
   "id": "96313751-a396-4c3a-a2ba-0e41c8761ede",
   "metadata": {},
   "outputs": [
    {
     "data": {
      "image/png": "[encoded data removed]",
      "text/plain": [
       "<Figure size 800x400 with 1 Axes>"
      ]
     },
     "metadata": {
      "needs_background": "light"
     },
     "output_type": "display_data"
    }
   ],
   "source": [
    "# make a canvas, set sizes\n",
    "fig, ax = plt.subplots(figsize=(8, 4))\n",
    "\n",
    "fontsize=9\n",
    "labelsize=8\n",
    "\n",
    "# create a bar plot\n",
    "sns.histplot(pvalues_aa_1_2, legend=False)\n",
    "\n",
    "# adjust fonts and ticks\n",
    "ax.set_xlabel('Observed p-value', fontsize=fontsize)\n",
    "ax.set_ylabel('Number of Observations', fontsize=fontsize)\n",
    "ax.set_title('Distribution of observed p-values', fontsize=fontsize)\n",
    "\n",
    "ax.tick_params(axis='y', labelsize=labelsize)\n",
    "ax.tick_params(axis='x', labelsize=labelsize)\n",
    "\n",
    "plt.show()\n"
   ]
  },
  {
   "cell_type": "markdown",
   "id": "24dd704e-ba6e-40db-8bfb-5acaa303303b",
   "metadata": {},
   "source": [
    "p-values seem to be distributed uniformly, which indicates equivalence of groups compared.  \n",
    "How often did the p-value end up below 0.05 (level at which we would reject H<sub>0</sub>')?"
   ]
  },
  {
   "cell_type": "code",
   "execution_count": 24,
   "id": "0297f580-aaec-45d1-bd94-8d2dbcbccb0e",
   "metadata": {},
   "outputs": [
    {
     "data": {
      "text/plain": [
       "0.0458"
      ]
     },
     "execution_count": 24,
     "metadata": {},
     "output_type": "execute_result"
    }
   ],
   "source": [
    "# set the level\n",
    "significance_level = 0.05\n",
    "\n",
    "# count tests where p-value was below the level\n",
    "condition = pvalues_aa_1_2.p_value <= significance_level\n",
    "error_rate = pvalues_aa_1_2.loc[condition].count() / pvalues_aa_1_2.count()\n",
    "\n",
    "error_rate.sum()"
   ]
  },
  {
   "cell_type": "markdown",
   "id": "95ba34f4-0e55-48c0-b395-78c2559ab79b",
   "metadata": {},
   "source": [
    "#### 3. Summary:\n",
    "The groups are equivalent (similar in size and user CTR behaviour).\n",
    "As we carry out multiple AA-tests between the samples from the two groups, we get p-values below 0.05 at a 0.0431 frequency, which is a good indicator that the groups are similar.\n",
    "\n",
    "#### 4. Questions:\n",
    "What is the theoretical ground behind this analysis of p-value distribution? Seems not very clear. Why can we do it?\n",
    "\n",
    "#### 5. Notes for myself:\n",
    "To read:\n",
    "  - https://www.tandfonline.com/doi/abs/10.1198/000313008X332421\n",
    "  - https://stats.stackexchange.com/questions/10613/why-are-p-values-uniformly-distributed-under-the-null-hypothesis\n",
    "  - https://towardsdatascience.com/on-a-a-tests-p-values-significance-and-the-uniform-distribution-95d6e9a2afb1\n",
    "  "
   ]
  },
  {
   "cell_type": "markdown",
   "id": "031908bc-2e88-4f4a-9403-f52f58f7fa0e",
   "metadata": {
    "tags": []
   },
   "source": [
    "<a id=\"ab-testing-comparison\"></a>\n",
    "\n",
    "### A/B testing comparison\n",
    "---\n",
    "\n",
    "Now, we need to analyze the effect of the new recommendation algorithm.\n",
    "\n",
    "Test: new algorithm (group 2) VS old one (group 1) from 2023-06-30 to 2023-07-06.  \n",
    "Hypothesis: new system leads to increase in CTR.\n",
    "\n",
    "Methods to use and compare:\n",
    "  - User CTR: Paired t-test and Mann-Whitney U test\n",
    "  - smoothed user CTR: Paired t-test and Mann-Whitney U test\n",
    "  - bucket CTR after bucket transformation: Paired t-test and Mann-Whitney U test\n",
    "  - bootstraped group CTR: Paired t-test"
   ]
  },
  {
   "cell_type": "markdown",
   "id": "303d215a-c649-48bc-a799-65577b824945",
   "metadata": {},
   "source": [
    "---\n",
    "#### 1. Groups overview after A/B testing\n",
    "Now to the A/B testing: get user CTR for users in group 1 (control) and 2 (target) over the period from 2023-06-30 to 2023-07-06"
   ]
  },
  {
   "cell_type": "code",
   "execution_count": 25,
   "id": "a98d1b5e-02ba-49c4-825e-95d96b15d880",
   "metadata": {
    "tags": []
   },
   "outputs": [],
   "source": [
    "# get a table with users from groups 1 and 2 and their ctr\n",
    "# during the period from 30 June to 6 July\n",
    "\n",
    "query = '''\n",
    "SELECT user_id,\n",
    "if(exp_group = 1, 'control', 'target') AS exp_group,\n",
    "likes,\n",
    "views,\n",
    "likes::FLOAT / views AS ctr\n",
    "FROM (\n",
    "SELECT user_id, \n",
    "exp_group,\n",
    "countIf(action = 'like') AS likes,\n",
    "countIf(action = 'view') AS views\n",
    "FROM simulator_20230720.feed_actions\n",
    "WHERE (time BETWEEN '2023-06-30'::DATE AND '2023-07-07'::DATE) \n",
    "AND exp_group IN (1, 2)\n",
    "GROUP BY user_id, exp_group \n",
    ") aggregated_likes\n",
    "'''\n",
    "\n",
    "# import a table to a dataframe\n",
    "user_ctr_ab_1_2 = ph.read_clickhouse(\n",
    "    query, \n",
    "    connection=CONNECTION\n",
    ")\n"
   ]
  },
  {
   "cell_type": "code",
   "execution_count": 26,
   "id": "e752ec0c-8248-42ed-b417-3e747b18ef7a",
   "metadata": {},
   "outputs": [
    {
     "data": {
      "text/html": [
       "<div>\n",
       "<style scoped>\n",
       "    .dataframe tbody tr th:only-of-type {\n",
       "        vertical-align: middle;\n",
       "    }\n",
       "\n",
       "    .dataframe tbody tr th {\n",
       "        vertical-align: top;\n",
       "    }\n",
       "\n",
       "    .dataframe thead th {\n",
       "        text-align: right;\n",
       "    }\n",
       "</style>\n",
       "<table border=\"1\" class=\"dataframe\">\n",
       "  <thead>\n",
       "    <tr style=\"text-align: right;\">\n",
       "      <th></th>\n",
       "      <th>user_id</th>\n",
       "      <th>likes</th>\n",
       "      <th>views</th>\n",
       "      <th>ctr</th>\n",
       "    </tr>\n",
       "  </thead>\n",
       "  <tbody>\n",
       "    <tr>\n",
       "      <th>count</th>\n",
       "      <td>19898.000000</td>\n",
       "      <td>19898.000000</td>\n",
       "      <td>19898.000000</td>\n",
       "      <td>19898.000000</td>\n",
       "    </tr>\n",
       "    <tr>\n",
       "      <th>mean</th>\n",
       "      <td>75510.971957</td>\n",
       "      <td>13.689567</td>\n",
       "      <td>66.790682</td>\n",
       "      <td>0.216429</td>\n",
       "    </tr>\n",
       "    <tr>\n",
       "      <th>std</th>\n",
       "      <td>53254.468009</td>\n",
       "      <td>10.879848</td>\n",
       "      <td>45.365962</td>\n",
       "      <td>0.116621</td>\n",
       "    </tr>\n",
       "    <tr>\n",
       "      <th>min</th>\n",
       "      <td>206.000000</td>\n",
       "      <td>0.000000</td>\n",
       "      <td>1.000000</td>\n",
       "      <td>0.000000</td>\n",
       "    </tr>\n",
       "    <tr>\n",
       "      <th>25%</th>\n",
       "      <td>21945.500000</td>\n",
       "      <td>6.000000</td>\n",
       "      <td>32.000000</td>\n",
       "      <td>0.119403</td>\n",
       "    </tr>\n",
       "    <tr>\n",
       "      <th>50%</th>\n",
       "      <td>109318.000000</td>\n",
       "      <td>11.000000</td>\n",
       "      <td>57.000000</td>\n",
       "      <td>0.200000</td>\n",
       "    </tr>\n",
       "    <tr>\n",
       "      <th>75%</th>\n",
       "      <td>126144.250000</td>\n",
       "      <td>19.000000</td>\n",
       "      <td>91.000000</td>\n",
       "      <td>0.291667</td>\n",
       "    </tr>\n",
       "    <tr>\n",
       "      <th>max</th>\n",
       "      <td>140740.000000</td>\n",
       "      <td>93.000000</td>\n",
       "      <td>341.000000</td>\n",
       "      <td>0.900000</td>\n",
       "    </tr>\n",
       "  </tbody>\n",
       "</table>\n",
       "</div>"
      ],
      "text/plain": [
       "             user_id         likes         views           ctr\n",
       "count   19898.000000  19898.000000  19898.000000  19898.000000\n",
       "mean    75510.971957     13.689567     66.790682      0.216429\n",
       "std     53254.468009     10.879848     45.365962      0.116621\n",
       "min       206.000000      0.000000      1.000000      0.000000\n",
       "25%     21945.500000      6.000000     32.000000      0.119403\n",
       "50%    109318.000000     11.000000     57.000000      0.200000\n",
       "75%    126144.250000     19.000000     91.000000      0.291667\n",
       "max    140740.000000     93.000000    341.000000      0.900000"
      ]
     },
     "execution_count": 26,
     "metadata": {},
     "output_type": "execute_result"
    }
   ],
   "source": [
    "# see the basic details of the df\n",
    "user_ctr_ab_1_2.describe()"
   ]
  },
  {
   "cell_type": "code",
   "execution_count": 27,
   "id": "f9e9e2e5-cf3f-4037-a60f-52d1eaf9292e",
   "metadata": {},
   "outputs": [
    {
     "data": {
      "text/html": [
       "<div>\n",
       "<style scoped>\n",
       "    .dataframe tbody tr th:only-of-type {\n",
       "        vertical-align: middle;\n",
       "    }\n",
       "\n",
       "    .dataframe tbody tr th {\n",
       "        vertical-align: top;\n",
       "    }\n",
       "\n",
       "    .dataframe thead th {\n",
       "        text-align: right;\n",
       "    }\n",
       "</style>\n",
       "<table border=\"1\" class=\"dataframe\">\n",
       "  <thead>\n",
       "    <tr style=\"text-align: right;\">\n",
       "      <th></th>\n",
       "      <th>user_id</th>\n",
       "      <th>exp_group</th>\n",
       "      <th>likes</th>\n",
       "      <th>views</th>\n",
       "      <th>ctr</th>\n",
       "    </tr>\n",
       "  </thead>\n",
       "  <tbody>\n",
       "    <tr>\n",
       "      <th>0</th>\n",
       "      <td>109963</td>\n",
       "      <td>control</td>\n",
       "      <td>3</td>\n",
       "      <td>15</td>\n",
       "      <td>0.200000</td>\n",
       "    </tr>\n",
       "    <tr>\n",
       "      <th>1</th>\n",
       "      <td>26117</td>\n",
       "      <td>control</td>\n",
       "      <td>32</td>\n",
       "      <td>141</td>\n",
       "      <td>0.226950</td>\n",
       "    </tr>\n",
       "    <tr>\n",
       "      <th>2</th>\n",
       "      <td>138232</td>\n",
       "      <td>control</td>\n",
       "      <td>18</td>\n",
       "      <td>73</td>\n",
       "      <td>0.246575</td>\n",
       "    </tr>\n",
       "    <tr>\n",
       "      <th>3</th>\n",
       "      <td>18392</td>\n",
       "      <td>control</td>\n",
       "      <td>7</td>\n",
       "      <td>32</td>\n",
       "      <td>0.218750</td>\n",
       "    </tr>\n",
       "    <tr>\n",
       "      <th>4</th>\n",
       "      <td>26295</td>\n",
       "      <td>control</td>\n",
       "      <td>39</td>\n",
       "      <td>141</td>\n",
       "      <td>0.276596</td>\n",
       "    </tr>\n",
       "  </tbody>\n",
       "</table>\n",
       "</div>"
      ],
      "text/plain": [
       "   user_id exp_group  likes  views       ctr\n",
       "0   109963   control      3     15  0.200000\n",
       "1    26117   control     32    141  0.226950\n",
       "2   138232   control     18     73  0.246575\n",
       "3    18392   control      7     32  0.218750\n",
       "4    26295   control     39    141  0.276596"
      ]
     },
     "execution_count": 27,
     "metadata": {},
     "output_type": "execute_result"
    }
   ],
   "source": [
    "user_ctr_ab_1_2.head()"
   ]
  },
  {
   "cell_type": "code",
   "execution_count": 28,
   "id": "296aafc6-1af1-4e3f-97bb-5ea24c28d269",
   "metadata": {},
   "outputs": [
    {
     "data": {
      "text/plain": [
       "exp_group\n",
       "control    10020\n",
       "target      9878\n",
       "Name: user_id, dtype: int64"
      ]
     },
     "execution_count": 28,
     "metadata": {},
     "output_type": "execute_result"
    }
   ],
   "source": [
    "# Let`s see how many users we have within each group\n",
    "# - are the sizes equal?\n",
    "user_ctr_ab_1_2.groupby('exp_group').user_id.count()"
   ]
  },
  {
   "cell_type": "markdown",
   "id": "e73d1523-47b1-498e-b022-313a8e02ebc4",
   "metadata": {},
   "source": [
    "Sizes are similar. Let's go ahead and compare user CTRs distrubution between the groups."
   ]
  },
  {
   "cell_type": "code",
   "execution_count": 29,
   "id": "70dc8766-d37a-4620-b1cd-e2d6b8dbdb30",
   "metadata": {},
   "outputs": [
    {
     "data": {
      "image/png": "[encoded data removed]",
      "text/plain": [
       "<Figure size 900x400 with 1 Axes>"
      ]
     },
     "metadata": {
      "needs_background": "light"
     },
     "output_type": "display_data"
    }
   ],
   "source": [
    "hist_user_ctr_ab = HistPlotter(\n",
    "    data=user_ctr_ab_1_2,\n",
    "    x='ctr', \n",
    "    hue='exp_group',  \n",
    "    xlabel='user CTR',\n",
    "    ylabel='Count',\n",
    "    title='User CTR by Exp Group after A/B testing'\n",
    ")\n",
    "\n",
    "hist_user_ctr_ab.plot()\n",
    "plt.axvline(x=0.22, linewidth=2, color='black', linestyle='--')\n",
    "plt.show()"
   ]
  },
  {
   "cell_type": "code",
   "execution_count": 30,
   "id": "5203819a-08fc-4338-9c6e-6a8caa96e763",
   "metadata": {},
   "outputs": [
    {
     "data": {
      "text/html": [
       "<div>\n",
       "<style scoped>\n",
       "    .dataframe tbody tr th:only-of-type {\n",
       "        vertical-align: middle;\n",
       "    }\n",
       "\n",
       "    .dataframe tbody tr th {\n",
       "        vertical-align: top;\n",
       "    }\n",
       "\n",
       "    .dataframe thead th {\n",
       "        text-align: right;\n",
       "    }\n",
       "</style>\n",
       "<table border=\"1\" class=\"dataframe\">\n",
       "  <thead>\n",
       "    <tr style=\"text-align: right;\">\n",
       "      <th></th>\n",
       "      <th>user_id</th>\n",
       "      <th>likes</th>\n",
       "      <th>views</th>\n",
       "      <th>ctr</th>\n",
       "    </tr>\n",
       "    <tr>\n",
       "      <th>exp_group</th>\n",
       "      <th></th>\n",
       "      <th></th>\n",
       "      <th></th>\n",
       "      <th></th>\n",
       "    </tr>\n",
       "  </thead>\n",
       "  <tbody>\n",
       "    <tr>\n",
       "      <th>control</th>\n",
       "      <td>109387.0</td>\n",
       "      <td>12.0</td>\n",
       "      <td>57.0</td>\n",
       "      <td>0.205882</td>\n",
       "    </tr>\n",
       "    <tr>\n",
       "      <th>target</th>\n",
       "      <td>109215.5</td>\n",
       "      <td>10.0</td>\n",
       "      <td>57.0</td>\n",
       "      <td>0.153255</td>\n",
       "    </tr>\n",
       "  </tbody>\n",
       "</table>\n",
       "</div>"
      ],
      "text/plain": [
       "            user_id  likes  views       ctr\n",
       "exp_group                                  \n",
       "control    109387.0   12.0   57.0  0.205882\n",
       "target     109215.5   10.0   57.0  0.153255"
      ]
     },
     "execution_count": 30,
     "metadata": {},
     "output_type": "execute_result"
    }
   ],
   "source": [
    "user_ctr_ab_1_2.groupby('exp_group').median()"
   ]
  },
  {
   "cell_type": "markdown",
   "id": "a0ebcd9b-216d-48ae-923f-3dd9c8297959",
   "metadata": {},
   "source": [
    "The behaviour of the group 1 (control) stayed visually the same as it was before the test.  \n",
    "However, the group 2 (target) started to behave differently: the distribution became bimodal - some users got weaker conversion, while the rest increased their CTR.  \n",
    "Let's try to have a look if there is any difference in users with different behaviour in the target? Age, gender, OS type? Their general acitivty (views)? Their source (ad/organic)?  \n",
    "The black line at CTR=0.22 shows separarion of the two subgroups in the target."
   ]
  },
  {
   "cell_type": "code",
   "execution_count": 31,
   "id": "855b6ac1-54b8-4209-a3b9-61b535137a43",
   "metadata": {},
   "outputs": [
    {
     "data": {
      "text/html": [
       "<div>\n",
       "<style scoped>\n",
       "    .dataframe tbody tr th:only-of-type {\n",
       "        vertical-align: middle;\n",
       "    }\n",
       "\n",
       "    .dataframe tbody tr th {\n",
       "        vertical-align: top;\n",
       "    }\n",
       "\n",
       "    .dataframe thead th {\n",
       "        text-align: right;\n",
       "    }\n",
       "</style>\n",
       "<table border=\"1\" class=\"dataframe\">\n",
       "  <thead>\n",
       "    <tr style=\"text-align: right;\">\n",
       "      <th></th>\n",
       "      <th>percentage</th>\n",
       "    </tr>\n",
       "    <tr>\n",
       "      <th>ctr_group</th>\n",
       "      <th></th>\n",
       "    </tr>\n",
       "  </thead>\n",
       "  <tbody>\n",
       "    <tr>\n",
       "      <th>high</th>\n",
       "      <td>43.885402</td>\n",
       "    </tr>\n",
       "    <tr>\n",
       "      <th>low</th>\n",
       "      <td>56.114598</td>\n",
       "    </tr>\n",
       "  </tbody>\n",
       "</table>\n",
       "</div>"
      ],
      "text/plain": [
       "           percentage\n",
       "ctr_group            \n",
       "high        43.885402\n",
       "low         56.114598"
      ]
     },
     "execution_count": 31,
     "metadata": {},
     "output_type": "execute_result"
    }
   ],
   "source": [
    "# Let's first see what is the contribution of each subgroup (low-high CTR)\n",
    "# to the total target group\n",
    "target_ctr = user_ctr_ab_1_2.loc[user_ctr_ab_1_2.exp_group == 'target', ['ctr']]\n",
    "target_ctr['ctr_group'] = np.where(target_ctr.ctr <= 0.22,'low', 'high')\n",
    "\n",
    "target_ctr.groupby('ctr_group').count().div(target_ctr.ctr.count()).mul(100).rename(columns={'ctr':'percentage'})"
   ]
  },
  {
   "cell_type": "markdown",
   "id": "97551102-2234-4ff6-a503-17f884082fec",
   "metadata": {},
   "source": [
    "As we can see, in the target group we have more users having lower CTR (first peak) than those with higher CTR."
   ]
  },
  {
   "cell_type": "markdown",
   "id": "6b769932-fa03-463c-894b-f6a627a44328",
   "metadata": {},
   "source": [
    "To make user groups based on their activity (to see how they are represented in each subgroup), let's plot the by user views distribution."
   ]
  },
  {
   "cell_type": "code",
   "execution_count": 32,
   "id": "11509f4d-b0b1-4621-92dd-8b7fba5f8c1d",
   "metadata": {},
   "outputs": [
    {
     "data": {
      "image/png": "[encoded data removed]",
      "text/plain": [
       "<Figure size 900x400 with 1 Axes>"
      ]
     },
     "metadata": {
      "needs_background": "light"
     },
     "output_type": "display_data"
    }
   ],
   "source": [
    "# fig, ax = plt.subplots(figsize=(9, 4))\n",
    "\n",
    "sns.histplot(user_ctr_ab_1_2.loc[user_ctr_ab_1_2.exp_group == 'target'], x='views')\n",
    "plt.title('Distribution of views in the target group')\n",
    "plt.axvline(x=50, linewidth=1, color='red', linestyle='--')\n",
    "plt.axvline(x=150, linewidth=1, color='red', linestyle='--')\n",
    "plt.show()"
   ]
  },
  {
   "cell_type": "markdown",
   "id": "ee947396-7281-4a3c-98d8-da26b521b821",
   "metadata": {},
   "source": [
    "We will split the target users into 3 groups based on their views: low activity (< 50), high activity (> 150), and medium activity.  \n",
    "For their age, we split into 0-16, 17-55, and 55+.  \n",
    "As for the country, look at Russia and non-Russia as it gives the highest contribution in the user influx."
   ]
  },
  {
   "cell_type": "code",
   "execution_count": 33,
   "id": "4c262fb1-04b0-4752-96f1-d70a41288196",
   "metadata": {
    "tags": []
   },
   "outputs": [],
   "source": [
    "# get a table with users from groups 1 and 2 and their ctr and age group, \n",
    "# sex, os_type, or their source\n",
    "# during the period from 30 June to 6 July\n",
    "\n",
    "query = '''\n",
    "SELECT user_id,\n",
    "if(exp_group = 1, 'control', 'target') AS exp_group,\n",
    "os,\n",
    "gender,\n",
    "age_group,\n",
    "source,\n",
    "likes,\n",
    "views,\n",
    "multiIf(views <= 50, '0-50', views > 150, '150+', '51-150') AS views_group,\n",
    "country_group,\n",
    "likes::FLOAT / views AS ctr\n",
    "FROM (\n",
    "SELECT user_id, \n",
    "exp_group,\n",
    "os,\n",
    "gender,\n",
    "source,\n",
    "multiIf(age <= 16, '0-16', age > 55, '55+', '17-55') AS age_group,\n",
    "if(country = 'Russia', 'Russia', 'non-Russia') AS country_group,\n",
    "countIf(action = 'like') AS likes,\n",
    "countIf(action = 'view') AS views\n",
    "FROM simulator_20230720.feed_actions\n",
    "WHERE (time BETWEEN '2023-06-30'::DATE AND '2023-07-07'::DATE) \n",
    "AND exp_group IN (1, 2)\n",
    "GROUP BY user_id, exp_group, os, gender, age_group, source, country_group\n",
    ") aggregated_likes\n",
    "'''\n",
    "\n",
    "# import a table to a dataframe\n",
    "user_ctr_ab_complete = ph.read_clickhouse(\n",
    "    query, \n",
    "    connection=CONNECTION\n",
    ")\n"
   ]
  },
  {
   "cell_type": "code",
   "execution_count": 34,
   "id": "992d4593-e515-469e-9ca0-65b1760bd0a9",
   "metadata": {},
   "outputs": [
    {
     "data": {
      "text/html": [
       "<div>\n",
       "<style scoped>\n",
       "    .dataframe tbody tr th:only-of-type {\n",
       "        vertical-align: middle;\n",
       "    }\n",
       "\n",
       "    .dataframe tbody tr th {\n",
       "        vertical-align: top;\n",
       "    }\n",
       "\n",
       "    .dataframe thead th {\n",
       "        text-align: right;\n",
       "    }\n",
       "</style>\n",
       "<table border=\"1\" class=\"dataframe\">\n",
       "  <thead>\n",
       "    <tr style=\"text-align: right;\">\n",
       "      <th></th>\n",
       "      <th>user_id</th>\n",
       "      <th>exp_group</th>\n",
       "      <th>os</th>\n",
       "      <th>gender</th>\n",
       "      <th>age_group</th>\n",
       "      <th>source</th>\n",
       "      <th>likes</th>\n",
       "      <th>views</th>\n",
       "      <th>views_group</th>\n",
       "      <th>country_group</th>\n",
       "      <th>ctr</th>\n",
       "    </tr>\n",
       "  </thead>\n",
       "  <tbody>\n",
       "    <tr>\n",
       "      <th>0</th>\n",
       "      <td>129946</td>\n",
       "      <td>control</td>\n",
       "      <td>Android</td>\n",
       "      <td>1</td>\n",
       "      <td>17-55</td>\n",
       "      <td>organic</td>\n",
       "      <td>33</td>\n",
       "      <td>109</td>\n",
       "      <td>51-150</td>\n",
       "      <td>Russia</td>\n",
       "      <td>0.302752</td>\n",
       "    </tr>\n",
       "    <tr>\n",
       "      <th>1</th>\n",
       "      <td>7047</td>\n",
       "      <td>target</td>\n",
       "      <td>Android</td>\n",
       "      <td>0</td>\n",
       "      <td>17-55</td>\n",
       "      <td>ads</td>\n",
       "      <td>1</td>\n",
       "      <td>15</td>\n",
       "      <td>0-50</td>\n",
       "      <td>Russia</td>\n",
       "      <td>0.066667</td>\n",
       "    </tr>\n",
       "    <tr>\n",
       "      <th>2</th>\n",
       "      <td>108875</td>\n",
       "      <td>target</td>\n",
       "      <td>iOS</td>\n",
       "      <td>0</td>\n",
       "      <td>17-55</td>\n",
       "      <td>organic</td>\n",
       "      <td>11</td>\n",
       "      <td>112</td>\n",
       "      <td>51-150</td>\n",
       "      <td>non-Russia</td>\n",
       "      <td>0.098214</td>\n",
       "    </tr>\n",
       "    <tr>\n",
       "      <th>3</th>\n",
       "      <td>134091</td>\n",
       "      <td>control</td>\n",
       "      <td>iOS</td>\n",
       "      <td>0</td>\n",
       "      <td>17-55</td>\n",
       "      <td>organic</td>\n",
       "      <td>16</td>\n",
       "      <td>75</td>\n",
       "      <td>51-150</td>\n",
       "      <td>non-Russia</td>\n",
       "      <td>0.213333</td>\n",
       "    </tr>\n",
       "    <tr>\n",
       "      <th>4</th>\n",
       "      <td>23775</td>\n",
       "      <td>target</td>\n",
       "      <td>Android</td>\n",
       "      <td>1</td>\n",
       "      <td>17-55</td>\n",
       "      <td>ads</td>\n",
       "      <td>8</td>\n",
       "      <td>97</td>\n",
       "      <td>51-150</td>\n",
       "      <td>Russia</td>\n",
       "      <td>0.082474</td>\n",
       "    </tr>\n",
       "  </tbody>\n",
       "</table>\n",
       "</div>"
      ],
      "text/plain": [
       "   user_id exp_group       os  gender age_group   source  likes  views  \\\n",
       "0   129946   control  Android       1     17-55  organic     33    109   \n",
       "1     7047    target  Android       0     17-55      ads      1     15   \n",
       "2   108875    target      iOS       0     17-55  organic     11    112   \n",
       "3   134091   control      iOS       0     17-55  organic     16     75   \n",
       "4    23775    target  Android       1     17-55      ads      8     97   \n",
       "\n",
       "  views_group country_group       ctr  \n",
       "0      51-150        Russia  0.302752  \n",
       "1        0-50        Russia  0.066667  \n",
       "2      51-150    non-Russia  0.098214  \n",
       "3      51-150    non-Russia  0.213333  \n",
       "4      51-150        Russia  0.082474  "
      ]
     },
     "execution_count": 34,
     "metadata": {},
     "output_type": "execute_result"
    }
   ],
   "source": [
    "user_ctr_ab_complete.head()"
   ]
  },
  {
   "cell_type": "code",
   "execution_count": 35,
   "id": "df5c3500-c2ea-4d1e-a3a3-ee6456dd0f62",
   "metadata": {},
   "outputs": [
    {
     "data": {
      "image/png": "[encoded data removed]",
      "text/plain": [
       "<Figure size 1500x900 with 6 Axes>"
      ]
     },
     "metadata": {
      "needs_background": "light"
     },
     "output_type": "display_data"
    }
   ],
   "source": [
    "# make a canvas, set sizes\n",
    "fig, axs = plt.subplots(2, 3, figsize=(15, 9))\n",
    "\n",
    "hues = ['os', \n",
    "        'gender', \n",
    "        'age_group', \n",
    "        'views_group', \n",
    "        'source', \n",
    "        'country_group'\n",
    "       ]\n",
    "\n",
    "for hue, ax in zip(hues, axs.reshape(-1)):\n",
    "    plotter_obj = HistPlotter(\n",
    "        data=user_ctr_ab_complete.loc[user_ctr_ab_complete.exp_group == 'target'],\n",
    "        x='ctr', \n",
    "        hue=hue,  \n",
    "        xlabel='user CTR',\n",
    "        ylabel='Count',\n",
    "        title=f'User CTR in target group by {hue}'\n",
    "    )\n",
    "    \n",
    "    plotter_obj.plot(ax=ax)\n",
    "plt.tight_layout()"
   ]
  },
  {
   "cell_type": "markdown",
   "id": "f7adeca4-9a8b-4f94-b9b8-53a1d4fcbb41",
   "metadata": {},
   "source": [
    "All of the subgroups behave similarly here, except for the splitting by views: there is a slight trend that as activity goes low, there is more separation into the two modes, whilist at higher activity, the distribution tends towards more unimodality.  \n",
    "Either the difference lies in the other feature of the group we are not aware of, or the new system was somehow differently introduced within the group.  \n",
    "Anyway, proceed with what we have and put it to the test."
   ]
  },
  {
   "cell_type": "markdown",
   "id": "d7e9a1df-bc21-441e-abfa-b9c11d62fc40",
   "metadata": {},
   "source": [
    "#### 2. Paired t-test and Mann-Whitney U test for user CTR\n",
    "Try to apply the t-test to the groups:"
   ]
  },
  {
   "cell_type": "code",
   "execution_count": 36,
   "id": "6f6c7e55-af74-4853-af33-bdadc80bcd17",
   "metadata": {},
   "outputs": [],
   "source": [
    "# create for the groups\n",
    "control_sample = user_ctr_ab_1_2.loc[user_ctr_ab_1_2.exp_group == 'control']\n",
    "target_sample = user_ctr_ab_1_2.loc[user_ctr_ab_1_2.exp_group == 'target']"
   ]
  },
  {
   "cell_type": "code",
   "execution_count": 37,
   "id": "d4e50184-a04a-42ff-bdfa-b83d8dccdd8c",
   "metadata": {},
   "outputs": [
    {
     "data": {
      "text/plain": [
       "0    0.676155\n",
       "Name: pvalue, dtype: float64"
      ]
     },
     "execution_count": 37,
     "metadata": {},
     "output_type": "execute_result"
    }
   ],
   "source": [
    "# perform A/B test analysis by paired t-test    \n",
    "results = sm.stats.ttest_ind(\n",
    "        control_sample.ctr,\n",
    "        target_sample.ctr,\n",
    "        usevar='unequal'\n",
    "    )\n",
    "    \n",
    "output_ttest_user = pd.DataFrame(\n",
    "    {key: value for key, value in zip(['statistic', 'pvalue', 'degrees of freedom'], results)},\n",
    "    index=[0]\n",
    ").pvalue\n",
    "\n",
    "output_ttest_user"
   ]
  },
  {
   "cell_type": "markdown",
   "id": "51d0e854-5b93-4d64-9912-b99c66cf9daa",
   "metadata": {},
   "source": [
    "Based on this t-test result, we can not decline H0 at 95% confidence level.  \n",
    "Now try Mann-Whitney U test"
   ]
  },
  {
   "cell_type": "code",
   "execution_count": 38,
   "id": "2e5c562c-d0f9-482c-a875-524820691373",
   "metadata": {},
   "outputs": [
    {
     "data": {
      "text/plain": [
       "0    3.971156e-45\n",
       "Name: pvalue, dtype: float64"
      ]
     },
     "execution_count": 38,
     "metadata": {},
     "output_type": "execute_result"
    }
   ],
   "source": [
    "results = stats.mannwhitneyu(\n",
    "    control_sample.ctr,\n",
    "    target_sample.ctr,\n",
    "    alternative = 'two-sided')\n",
    "\n",
    "output_mannwhitneyu_user = pd.DataFrame(\n",
    "    {key: value for key, value in zip(['statistic', 'pvalue', 'degrees of freedom'], results)},\n",
    "    index=[0]\n",
    ")['pvalue'] \n",
    "\n",
    "output_mannwhitneyu_user"
   ]
  },
  {
   "cell_type": "markdown",
   "id": "2e6a24b1-947f-4aa3-94d1-ed55b4747669",
   "metadata": {},
   "source": [
    "Opposite result: we should decline H0 and say that the samples are different.\n"
   ]
  },
  {
   "cell_type": "markdown",
   "id": "c5cbbd3c-4f52-4bfe-aeae-31eba9a90b8e",
   "metadata": {
    "tags": []
   },
   "source": [
    "---\n",
    "#### 3. Tests on smoothed user CTR"
   ]
  },
  {
   "cell_type": "markdown",
   "id": "ee86d593-27ce-4f3a-a0de-43ebaa75f4e9",
   "metadata": {},
   "source": [
    "Try to do smoothing for user CTR and test this metric. It can increase the sensitivity, but does not guarantee to have the same direction of changes as original raw metric."
   ]
  },
  {
   "cell_type": "code",
   "execution_count": 39,
   "id": "e3583def-1609-41b9-9d36-d9bcaaba4b21",
   "metadata": {},
   "outputs": [],
   "source": [
    "# create aliases\n",
    "control_sample = user_ctr_ab_1_2.loc[user_ctr_ab_1_2.exp_group == 'control']\n",
    "control_global_ctr = control_sample.likes.sum() / control_sample.views.sum()\n",
    "\n",
    "target_sample = user_ctr_ab_1_2.loc[user_ctr_ab_1_2.exp_group == 'target']\n",
    "target_global_ctr = target_sample.likes.sum() / target_sample.views.sum()\n"
   ]
  },
  {
   "cell_type": "code",
   "execution_count": 40,
   "id": "29f370a6-8be4-44c6-a3db-ac03aca476f0",
   "metadata": {
    "tags": []
   },
   "outputs": [
    {
     "data": {
      "text/html": [
       "<div>\n",
       "<style scoped>\n",
       "    .dataframe tbody tr th:only-of-type {\n",
       "        vertical-align: middle;\n",
       "    }\n",
       "\n",
       "    .dataframe tbody tr th {\n",
       "        vertical-align: top;\n",
       "    }\n",
       "\n",
       "    .dataframe thead th {\n",
       "        text-align: right;\n",
       "    }\n",
       "</style>\n",
       "<table border=\"1\" class=\"dataframe\">\n",
       "  <thead>\n",
       "    <tr style=\"text-align: right;\">\n",
       "      <th></th>\n",
       "      <th>user_id</th>\n",
       "      <th>exp_group</th>\n",
       "      <th>likes</th>\n",
       "      <th>views</th>\n",
       "      <th>ctr</th>\n",
       "      <th>ctr_smoothed</th>\n",
       "    </tr>\n",
       "  </thead>\n",
       "  <tbody>\n",
       "    <tr>\n",
       "      <th>0</th>\n",
       "      <td>109963</td>\n",
       "      <td>control</td>\n",
       "      <td>3</td>\n",
       "      <td>15</td>\n",
       "      <td>0.200000</td>\n",
       "      <td>0.202401</td>\n",
       "    </tr>\n",
       "    <tr>\n",
       "      <th>1</th>\n",
       "      <td>26117</td>\n",
       "      <td>control</td>\n",
       "      <td>32</td>\n",
       "      <td>141</td>\n",
       "      <td>0.226950</td>\n",
       "      <td>0.226356</td>\n",
       "    </tr>\n",
       "    <tr>\n",
       "      <th>2</th>\n",
       "      <td>138232</td>\n",
       "      <td>control</td>\n",
       "      <td>18</td>\n",
       "      <td>73</td>\n",
       "      <td>0.246575</td>\n",
       "      <td>0.244205</td>\n",
       "    </tr>\n",
       "    <tr>\n",
       "      <th>3</th>\n",
       "      <td>18392</td>\n",
       "      <td>control</td>\n",
       "      <td>7</td>\n",
       "      <td>32</td>\n",
       "      <td>0.218750</td>\n",
       "      <td>0.217514</td>\n",
       "    </tr>\n",
       "    <tr>\n",
       "      <th>4</th>\n",
       "      <td>26295</td>\n",
       "      <td>control</td>\n",
       "      <td>39</td>\n",
       "      <td>141</td>\n",
       "      <td>0.276596</td>\n",
       "      <td>0.274301</td>\n",
       "    </tr>\n",
       "  </tbody>\n",
       "</table>\n",
       "</div>"
      ],
      "text/plain": [
       "   user_id exp_group  likes  views       ctr  ctr_smoothed\n",
       "0   109963   control      3     15  0.200000      0.202401\n",
       "1    26117   control     32    141  0.226950      0.226356\n",
       "2   138232   control     18     73  0.246575      0.244205\n",
       "3    18392   control      7     32  0.218750      0.217514\n",
       "4    26295   control     39    141  0.276596      0.274301"
      ]
     },
     "execution_count": 40,
     "metadata": {},
     "output_type": "execute_result"
    }
   ],
   "source": [
    "# smooth the ctr\n",
    "user_ctr_ab_1_2.loc[user_ctr_ab_1_2.exp_group == 'control', 'ctr_smoothed'] = get_smoothed_ctr(control_sample.likes, control_sample.views, control_global_ctr)\n",
    "user_ctr_ab_1_2.loc[user_ctr_ab_1_2.exp_group == 'target', 'ctr_smoothed'] = get_smoothed_ctr(target_sample.likes, target_sample.views, target_global_ctr)\n",
    "\n",
    "user_ctr_ab_1_2.head()"
   ]
  },
  {
   "cell_type": "code",
   "execution_count": 41,
   "id": "fc4e3f48-9840-48cd-9cd9-2f6148d18b9c",
   "metadata": {},
   "outputs": [
    {
     "data": {
      "image/png": "[encoded data removed]",
      "text/plain": [
       "<Figure size 1200x400 with 2 Axes>"
      ]
     },
     "metadata": {
      "needs_background": "light"
     },
     "output_type": "display_data"
    }
   ],
   "source": [
    "# make a canvas, set sizes\n",
    "fig, axs = plt.subplots(1, 2, figsize=(12, 4))\n",
    "\n",
    "# plot histograms to compare user CTRs\n",
    "# between the groups after the experiment\n",
    "hist_user_ctr_ab.plot(ax=axs[0])\n",
    "\n",
    "# plot histograms to compare smoothed user CTRs\n",
    "# between the groups after the experiment\n",
    "hist_user_ctr_smoothed_ab = HistPlotter(\n",
    "    data=user_ctr_ab_1_2,\n",
    "    x='ctr_smoothed', \n",
    "    hue='exp_group',  \n",
    "    xlabel='Smoothed User (alpha = 5) CTR',\n",
    "    ylabel='Count',\n",
    "    title='Smoothed User CTR by Exp Group After A/B testing'\n",
    ")\n",
    "hist_user_ctr_smoothed_ab.plot(ax=axs[1])\n"
   ]
  },
  {
   "cell_type": "markdown",
   "id": "9f57a7d9-cc62-4501-bb70-d9e7f5d922ef",
   "metadata": {},
   "source": [
    "Smoothing worked! For instance, we got less outliers with extreme values of the metric. Compare it by tests now."
   ]
  },
  {
   "cell_type": "code",
   "execution_count": 42,
   "id": "e522b4e1-bab4-4d1e-a3a9-df796e329c02",
   "metadata": {},
   "outputs": [],
   "source": [
    "# create aliases\n",
    "control_sample = user_ctr_ab_1_2.loc[user_ctr_ab_1_2.exp_group == 'control']\n",
    "target_sample = user_ctr_ab_1_2.loc[user_ctr_ab_1_2.exp_group == 'target']"
   ]
  },
  {
   "cell_type": "code",
   "execution_count": 43,
   "id": "031659e1-3815-4c2a-9311-bf1f0491d2e5",
   "metadata": {},
   "outputs": [
    {
     "data": {
      "text/plain": [
       "0    0.051346\n",
       "Name: pvalue, dtype: float64"
      ]
     },
     "execution_count": 43,
     "metadata": {},
     "output_type": "execute_result"
    }
   ],
   "source": [
    "# perform A/B test analysis by paired t-test\n",
    "results = sm.stats.ttest_ind(\n",
    "        control_sample.ctr_smoothed,\n",
    "        target_sample.ctr_smoothed,\n",
    "        usevar='unequal'\n",
    "    )\n",
    "    \n",
    "output_ttest_user_smooth = pd.DataFrame(\n",
    "    {key: value for key, value in zip(['statistic', 'pvalue', 'degrees of freedom'], results)},\n",
    "    index=[0]\n",
    ")['pvalue']\n",
    "output_ttest_user_smooth"
   ]
  },
  {
   "cell_type": "markdown",
   "id": "97b8ad09-58cd-4e97-b55d-f6e755ca8443",
   "metadata": {},
   "source": [
    "After the smoothing, p-value dropped from approx 0.6 to 0.05 due to the noise smoothing. However, we still can not decline H0 now."
   ]
  },
  {
   "cell_type": "code",
   "execution_count": 44,
   "id": "32d57c31-5039-413f-bad0-5a467875c6c3",
   "metadata": {},
   "outputs": [
    {
     "data": {
      "text/plain": [
       "0    2.224838e-50\n",
       "Name: pvalue, dtype: float64"
      ]
     },
     "execution_count": 44,
     "metadata": {},
     "output_type": "execute_result"
    }
   ],
   "source": [
    "results = stats.mannwhitneyu(\n",
    "    control_sample.ctr_smoothed,\n",
    "    target_sample.ctr_smoothed,\n",
    "    alternative = 'two-sided')\n",
    "\n",
    "output_mannwhitneyu_user_smooth = pd.DataFrame(\n",
    "    {key: value for key, value in zip(['statistic', 'pvalue'], results)},\n",
    "    index=[0]\n",
    ")['pvalue']\n",
    "output_mannwhitneyu_user_smooth"
   ]
  },
  {
   "cell_type": "markdown",
   "id": "61994e31-7692-46aa-880d-bb0288633243",
   "metadata": {},
   "source": [
    "Opposite from t-test result: we should decline H0 and say that the samples are different.\n"
   ]
  },
  {
   "cell_type": "markdown",
   "id": "43c4a0b7-8870-4d53-848f-e7b43f8d40b7",
   "metadata": {
    "tags": []
   },
   "source": [
    "---\n",
    "#### 4. Paired t-test and Mann-Whitney U test for CTR in buckets.\n",
    "\n",
    "Now to the bucket transformation: for each group, split the users randomly (hash approach) into 50 buckets and for each bucket, calculate the aggregated CTR."
   ]
  },
  {
   "cell_type": "code",
   "execution_count": 45,
   "id": "27559efa-d745-442c-9207-a17bad4598aa",
   "metadata": {
    "tags": []
   },
   "outputs": [],
   "source": [
    "# get a table with users from groups 1 and 2 and their ctr\n",
    "# during the period from 30 June to 7 July\n",
    "\n",
    "query = '''\n",
    "SELECT if(exp_group = 1, 'control', 'target') AS exp_group, \n",
    "        bucket,\n",
    "    sum(likes)/sum(views) as bucket_ctr\n",
    "FROM (SELECT exp_group, \n",
    "        xxHash64(user_id)%50 as bucket,\n",
    "        user_id,\n",
    "        sum(action = 'like') as likes,\n",
    "        sum(action = 'view') as views,\n",
    "        likes/views as ctr\n",
    "    FROM {db}.feed_actions \n",
    "    WHERE toDate(time) between '2023-06-30'::DATE AND '2023-07-07'::DATE\n",
    "        and exp_group in (1, 2)\n",
    "    GROUP BY exp_group, bucket, user_id)\n",
    "GROUP BY exp_group, bucket\n",
    "'''\n",
    "\n",
    "# import a table to a dataframe\n",
    "user_ctr_ab_1_2_bucket = ph.read_clickhouse(\n",
    "    query, \n",
    "    connection=CONNECTION\n",
    ")\n"
   ]
  },
  {
   "cell_type": "code",
   "execution_count": 46,
   "id": "b3e7a679-5110-4c82-911a-d3f2176b4d68",
   "metadata": {},
   "outputs": [
    {
     "data": {
      "text/html": [
       "<div>\n",
       "<style scoped>\n",
       "    .dataframe tbody tr th:only-of-type {\n",
       "        vertical-align: middle;\n",
       "    }\n",
       "\n",
       "    .dataframe tbody tr th {\n",
       "        vertical-align: top;\n",
       "    }\n",
       "\n",
       "    .dataframe thead th {\n",
       "        text-align: right;\n",
       "    }\n",
       "</style>\n",
       "<table border=\"1\" class=\"dataframe\">\n",
       "  <thead>\n",
       "    <tr style=\"text-align: right;\">\n",
       "      <th></th>\n",
       "      <th>exp_group</th>\n",
       "      <th>bucket</th>\n",
       "      <th>bucket_ctr</th>\n",
       "    </tr>\n",
       "  </thead>\n",
       "  <tbody>\n",
       "    <tr>\n",
       "      <th>0</th>\n",
       "      <td>control</td>\n",
       "      <td>41</td>\n",
       "      <td>0.203255</td>\n",
       "    </tr>\n",
       "    <tr>\n",
       "      <th>1</th>\n",
       "      <td>control</td>\n",
       "      <td>40</td>\n",
       "      <td>0.208539</td>\n",
       "    </tr>\n",
       "    <tr>\n",
       "      <th>2</th>\n",
       "      <td>target</td>\n",
       "      <td>34</td>\n",
       "      <td>0.195876</td>\n",
       "    </tr>\n",
       "    <tr>\n",
       "      <th>3</th>\n",
       "      <td>target</td>\n",
       "      <td>35</td>\n",
       "      <td>0.203334</td>\n",
       "    </tr>\n",
       "    <tr>\n",
       "      <th>4</th>\n",
       "      <td>target</td>\n",
       "      <td>15</td>\n",
       "      <td>0.218051</td>\n",
       "    </tr>\n",
       "  </tbody>\n",
       "</table>\n",
       "</div>"
      ],
      "text/plain": [
       "  exp_group  bucket  bucket_ctr\n",
       "0   control      41    0.203255\n",
       "1   control      40    0.208539\n",
       "2    target      34    0.195876\n",
       "3    target      35    0.203334\n",
       "4    target      15    0.218051"
      ]
     },
     "execution_count": 46,
     "metadata": {},
     "output_type": "execute_result"
    }
   ],
   "source": [
    "user_ctr_ab_1_2_bucket.head()"
   ]
  },
  {
   "cell_type": "code",
   "execution_count": 47,
   "id": "3ddd50b0-9824-49d4-b4b9-9e2f617b416e",
   "metadata": {},
   "outputs": [
    {
     "data": {
      "text/html": [
       "<div>\n",
       "<style scoped>\n",
       "    .dataframe tbody tr th:only-of-type {\n",
       "        vertical-align: middle;\n",
       "    }\n",
       "\n",
       "    .dataframe tbody tr th {\n",
       "        vertical-align: top;\n",
       "    }\n",
       "\n",
       "    .dataframe thead th {\n",
       "        text-align: right;\n",
       "    }\n",
       "</style>\n",
       "<table border=\"1\" class=\"dataframe\">\n",
       "  <thead>\n",
       "    <tr style=\"text-align: right;\">\n",
       "      <th></th>\n",
       "      <th>bucket</th>\n",
       "      <th>bucket_ctr</th>\n",
       "    </tr>\n",
       "    <tr>\n",
       "      <th>exp_group</th>\n",
       "      <th></th>\n",
       "      <th></th>\n",
       "    </tr>\n",
       "  </thead>\n",
       "  <tbody>\n",
       "    <tr>\n",
       "      <th>control</th>\n",
       "      <td>50</td>\n",
       "      <td>50</td>\n",
       "    </tr>\n",
       "    <tr>\n",
       "      <th>target</th>\n",
       "      <td>50</td>\n",
       "      <td>50</td>\n",
       "    </tr>\n",
       "  </tbody>\n",
       "</table>\n",
       "</div>"
      ],
      "text/plain": [
       "           bucket  bucket_ctr\n",
       "exp_group                    \n",
       "control        50          50\n",
       "target         50          50"
      ]
     },
     "execution_count": 47,
     "metadata": {},
     "output_type": "execute_result"
    }
   ],
   "source": [
    "user_ctr_ab_1_2_bucket.groupby('exp_group').count()"
   ]
  },
  {
   "cell_type": "code",
   "execution_count": 48,
   "id": "451ed707-a678-452a-b849-64b305962d0c",
   "metadata": {},
   "outputs": [
    {
     "data": {
      "image/png": "[encoded data removed]",
      "text/plain": [
       "<Figure size 600x400 with 1 Axes>"
      ]
     },
     "metadata": {
      "needs_background": "light"
     },
     "output_type": "display_data"
    }
   ],
   "source": [
    "# make a canvas, set sizes\n",
    "fig, ax = plt.subplots(figsize=(6, 4))\n",
    "\n",
    "# plot histograms to compare backet CTRs\n",
    "# between the groups after the experiment\n",
    "hist_bucket_ctr_ab = HistPlotter(\n",
    "    data=user_ctr_ab_1_2_bucket,\n",
    "    x='bucket_ctr', \n",
    "    hue='exp_group',  \n",
    "    xlabel='Bucket (50 buckets total) CTR',\n",
    "    ylabel='Count',\n",
    "    title='Bucket CTR by Exp Group After A/B testing',\n",
    ")\n",
    "hist_bucket_ctr_ab.plot(ax=ax, bins=20)"
   ]
  },
  {
   "cell_type": "markdown",
   "id": "1f9f01df-f671-4819-8cba-54474d2554b0",
   "metadata": {},
   "source": [
    "This metric seems to have dropped in the target group. Go for the tests!"
   ]
  },
  {
   "cell_type": "code",
   "execution_count": 49,
   "id": "75b3370d-a1ec-4d2a-a694-05e89763f986",
   "metadata": {},
   "outputs": [],
   "source": [
    "# create aliases\n",
    "control_sample = user_ctr_ab_1_2_bucket.loc[user_ctr_ab_1_2_bucket.exp_group == 'control']\n",
    "target_sample = user_ctr_ab_1_2_bucket.loc[user_ctr_ab_1_2_bucket.exp_group == 'target']"
   ]
  },
  {
   "cell_type": "code",
   "execution_count": 50,
   "id": "46f56a7e-2411-47d6-8f14-ac34a12e1487",
   "metadata": {},
   "outputs": [
    {
     "data": {
      "text/plain": [
       "0    0.000001\n",
       "Name: pvalue, dtype: float64"
      ]
     },
     "execution_count": 50,
     "metadata": {},
     "output_type": "execute_result"
    }
   ],
   "source": [
    "# perform A/B test analysis by paired t-test\n",
    "results = sm.stats.ttest_ind(\n",
    "        control_sample.bucket_ctr,\n",
    "        target_sample.bucket_ctr,\n",
    "        usevar='unequal'\n",
    "    )\n",
    "    \n",
    "output_ttest_bucket = pd.DataFrame(\n",
    "    {key: value for key, value in zip(['statistic', 'pvalue', 'degrees of freedom'], results)},\n",
    "    index=[0]\n",
    ").pvalue\n",
    "output_ttest_bucket"
   ]
  },
  {
   "cell_type": "code",
   "execution_count": 51,
   "id": "3e23b56b-8ff3-415c-a78a-412d382be224",
   "metadata": {},
   "outputs": [
    {
     "data": {
      "text/plain": [
       "0    7.563124e-07\n",
       "Name: pvalue, dtype: float64"
      ]
     },
     "execution_count": 51,
     "metadata": {},
     "output_type": "execute_result"
    }
   ],
   "source": [
    "results = stats.mannwhitneyu(\n",
    "    control_sample.bucket_ctr,\n",
    "    target_sample.bucket_ctr,\n",
    "    alternative = 'two-sided')\n",
    "\n",
    "output_mannwhitneyu_bucket = pd.DataFrame(\n",
    "    {key: value for key, value in zip(['statistic', 'pvalue'], results)},\n",
    "    index=[0]\n",
    ").pvalue\n",
    "output_mannwhitneyu_bucket"
   ]
  },
  {
   "cell_type": "markdown",
   "id": "0357f224-9d69-483c-a90d-93c161dc813b",
   "metadata": {},
   "source": [
    "According to both results, we should decline H0 and conclude the metric has indeed dropped in the target."
   ]
  },
  {
   "cell_type": "markdown",
   "id": "6116304e-9f3f-4f3c-8a09-84e61121b03e",
   "metadata": {
    "tags": []
   },
   "source": [
    "---\n",
    "#### 5. Poisson bootstrap.\n",
    "Apart from user CTR and bucket metric, we can also try to look at the group CTR and compare them for control and target. However, we have only one observation per group for this metric.  \n",
    "The way to solve this problem is via bootstrap where, if we think our group nicely represent the population, we can 'imitate' how the group metric would be distributed upon multiple sampling (i.e. multiple A/B testing).  \n"
   ]
  },
  {
   "cell_type": "markdown",
   "id": "b1d9e475-8cb0-49c2-99dd-d46a3251430c",
   "metadata": {},
   "source": [
    "At this step, we need to generate many pseudosamples with replacement from the sample with likes and views of groups 1 and 2. Sizes of the pseudosamples will be equal to the initial sample size.  \n",
    "To enhance rate of sampling, we will *instead of direct sampling* of values calculate *how many times* each value of the initial sample *appeared* in the pseudosample.  \n",
    "As we assume out samples to be large enough, we can generate occurence rate of every element by using Poisson distrubition with lambda = 1, which kind of reflects the Poisson limit theorem: occurence rate of an element from a sample size N in a pseudosample size N, which is described by Binomial(N, 1/N), can be approximated by Poisson(1) once N is large enough.  \n",
    "Once we know occurence rate for every sample element, we can build a pseudosample. Repeating this many times (e.g., 2000) would give us many pseudosamples, for each of them we can find group CTR (total likes / total views).   \n",
    "This will give us an estimate of how variable CTR in population is. Having this distributions in hand, we can compare their means by the appropriate methods."
   ]
  },
  {
   "cell_type": "code",
   "execution_count": 52,
   "id": "bc33fe16-5839-42b4-88fa-7665e28ffed3",
   "metadata": {},
   "outputs": [],
   "source": [
    "# create aliases\n",
    "control_sample = user_ctr_ab_1_2.loc[user_ctr_ab_1_2.exp_group == 'control']\n",
    "target_sample = user_ctr_ab_1_2.loc[user_ctr_ab_1_2.exp_group == 'target']"
   ]
  },
  {
   "cell_type": "code",
   "execution_count": 53,
   "id": "d82092ae-b596-4177-af54-492e8a3cb604",
   "metadata": {},
   "outputs": [],
   "source": [
    "# make numpy arrays out ouf the series to use them in our function\n",
    "likes_control = control_sample.likes.to_numpy()\n",
    "views_control = control_sample.views.to_numpy()\n",
    "\n",
    "likes_target = target_sample.likes.to_numpy()\n",
    "views_target = target_sample.views.to_numpy()\n",
    "\n",
    "bootstrap_output = bootstrap(likes_control, views_control, likes_target, views_target)\n"
   ]
  },
  {
   "cell_type": "code",
   "execution_count": 54,
   "id": "d0ed154d-a3ca-4923-a923-96663ed5b8b4",
   "metadata": {},
   "outputs": [
    {
     "data": {
      "text/html": [
       "<div>\n",
       "<style scoped>\n",
       "    .dataframe tbody tr th:only-of-type {\n",
       "        vertical-align: middle;\n",
       "    }\n",
       "\n",
       "    .dataframe tbody tr th {\n",
       "        vertical-align: top;\n",
       "    }\n",
       "\n",
       "    .dataframe thead th {\n",
       "        text-align: right;\n",
       "    }\n",
       "</style>\n",
       "<table border=\"1\" class=\"dataframe\">\n",
       "  <thead>\n",
       "    <tr style=\"text-align: right;\">\n",
       "      <th></th>\n",
       "      <th>exp_group</th>\n",
       "      <th>group_ctr</th>\n",
       "    </tr>\n",
       "  </thead>\n",
       "  <tbody>\n",
       "    <tr>\n",
       "      <th>0</th>\n",
       "      <td>control</td>\n",
       "      <td>[0.21016343511768878, 0.20938198758669344, 0.2...</td>\n",
       "    </tr>\n",
       "    <tr>\n",
       "      <th>1</th>\n",
       "      <td>target</td>\n",
       "      <td>[0.20046758569019288, 0.20012021127130933, 0.1...</td>\n",
       "    </tr>\n",
       "  </tbody>\n",
       "</table>\n",
       "</div>"
      ],
      "text/plain": [
       "  exp_group                                          group_ctr\n",
       "0   control  [0.21016343511768878, 0.20938198758669344, 0.2...\n",
       "1    target  [0.20046758569019288, 0.20012021127130933, 0.1..."
      ]
     },
     "execution_count": 54,
     "metadata": {},
     "output_type": "execute_result"
    }
   ],
   "source": [
    "# make a df with each row having array of bootstraped group CTR\n",
    "bootstrap_df = pd.DataFrame(\n",
    "    {'exp_group': ['control', 'target'],\n",
    "     'group_ctr': [*bootstrap_output]\n",
    "    }\n",
    ")\n",
    "bootstrap_df.head()\n"
   ]
  },
  {
   "cell_type": "code",
   "execution_count": 55,
   "id": "99c90a5e-6e1b-4a6b-b312-405ef54d566a",
   "metadata": {},
   "outputs": [
    {
     "name": "stdout",
     "output_type": "stream",
     "text": [
      "<class 'pandas.core.frame.DataFrame'>\n",
      "RangeIndex: 4000 entries, 0 to 3999\n",
      "Data columns (total 2 columns):\n",
      " #   Column     Non-Null Count  Dtype \n",
      "---  ------     --------------  ----- \n",
      " 0   exp_group  4000 non-null   object\n",
      " 1   group_ctr  4000 non-null   object\n",
      "dtypes: object(2)\n",
      "memory usage: 62.6+ KB\n"
     ]
    }
   ],
   "source": [
    "# explode the arrays in column 'group_ctr' into the rows\n",
    "# ignore_index makes resulting index from 0 to n-1\n",
    "# instead of 0, 0, ..., 0, 1, 1, ..., 1\n",
    "bootstrap_df_exploded = bootstrap_df.explode('group_ctr', ignore_index=True)\n",
    "bootstrap_df_exploded.info()"
   ]
  },
  {
   "cell_type": "code",
   "execution_count": 56,
   "id": "79c06f27-7b79-4c00-95b2-70751ae64365",
   "metadata": {},
   "outputs": [
    {
     "data": {
      "image/png": "[encoded data removed]",
      "text/plain": [
       "<Figure size 900x400 with 1 Axes>"
      ]
     },
     "metadata": {
      "needs_background": "light"
     },
     "output_type": "display_data"
    }
   ],
   "source": [
    "# plot histograms to compare group CTRs\n",
    "# between the groups after the experiment and bootstrapping\n",
    "hist_bootstrap_ctr_ab = HistPlotter(\n",
    "    data = bootstrap_df_exploded, \n",
    "    x='group_ctr',\n",
    "    hue='exp_group',\n",
    "    xlabel='Group CTR',\n",
    "    ylabel='Count',\n",
    "    title='Group CTR by Exp Group after Poisson Bootstrap'\n",
    ")\n",
    "hist_bootstrap_ctr_ab.plot()\n"
   ]
  },
  {
   "cell_type": "markdown",
   "id": "1e30c2f2-d480-4bb5-897c-903ac8d99e50",
   "metadata": {},
   "source": [
    "We have lost the bimodality of the target! It may be because of bootstrapping many times ('averaging' the metric).  \n",
    "Let's see how the number of samples (5000 vs 2000 vs 50) changes the shape of the group CTR distribution."
   ]
  },
  {
   "cell_type": "code",
   "execution_count": 57,
   "id": "427ae855-a17e-4bbc-8bba-3bedcfd9b9e6",
   "metadata": {},
   "outputs": [],
   "source": [
    "bootstrap_output_5000 = bootstrap(likes_control, views_control, likes_target, views_target, n_bootstrap=5000)\n",
    "bootstrap_output_50 = bootstrap(likes_control, views_control, likes_target, views_target, n_bootstrap=50)\n",
    "\n",
    "bootstrap_df_5000 = pd.DataFrame(\n",
    "    {'exp_group': ['control', 'target'],\n",
    "     'group_ctr': [*bootstrap_output_5000]\n",
    "    }\n",
    ")\n",
    "\n",
    "\n",
    "bootstrap_df_50 = pd.DataFrame(\n",
    "    {'exp_group': ['control', 'target'],\n",
    "     'group_ctr': [*bootstrap_output_50]\n",
    "    }\n",
    ")"
   ]
  },
  {
   "cell_type": "code",
   "execution_count": 58,
   "id": "1bf2c3c2-601e-40c7-b76d-c064b1fb1eb3",
   "metadata": {},
   "outputs": [],
   "source": [
    "bootstrap_df_exploded_5000 = bootstrap_df_5000.explode('group_ctr', ignore_index=True)\n",
    "bootstrap_df_exploded_50 = bootstrap_df_50.explode('group_ctr', ignore_index=True)"
   ]
  },
  {
   "cell_type": "code",
   "execution_count": 59,
   "id": "680904ed-de90-4e8b-afc4-a77eeeaea812",
   "metadata": {},
   "outputs": [
    {
     "data": {
      "image/png": "[encoded data removed]",
      "text/plain": [
       "<Figure size 1500x600 with 3 Axes>"
      ]
     },
     "metadata": {
      "needs_background": "light"
     },
     "output_type": "display_data"
    }
   ],
   "source": [
    "# make a canvas, set sizes\n",
    "fig, ax = plt.subplots(1, 3, figsize=(15, 6))\n",
    "\n",
    "# plot histograms to compare group CTRs\n",
    "# between the groups after the experiment and bootstrapping\n",
    "hist_bootstrap_ctr_ab = HistPlotter(\n",
    "    data = bootstrap_df_exploded, \n",
    "    x='group_ctr',\n",
    "    hue='exp_group',\n",
    "    xlabel='Group CTR',\n",
    "    ylabel='Count',\n",
    "    title='Group CTR by Exp Group after Poisson Bootstrap \\n (2000 samples)'\n",
    ")\n",
    "\n",
    "hist_bootstrap_ctr_ab_5000 = HistPlotter(\n",
    "    data = bootstrap_df_exploded_5000, \n",
    "    x='group_ctr',\n",
    "    hue='exp_group',\n",
    "    xlabel='Group CTR',\n",
    "    ylabel='Count',\n",
    "    title='Group CTR by Exp Group after Poisson Bootstrap \\n (5000 samples)'\n",
    ")\n",
    "\n",
    "hist_bootstrap_ctr_ab_50 = HistPlotter(\n",
    "    data = bootstrap_df_exploded_50, \n",
    "    x='group_ctr',\n",
    "    hue='exp_group',\n",
    "    xlabel='Group CTR',\n",
    "    ylabel='Count',\n",
    "    title='Group CTR by Exp Group after Poisson Bootstrap \\n (50 samples)'\n",
    ")\n",
    "\n",
    "hist_bootstrap_ctr_ab_5000.plot(ax=ax[0])\n",
    "hist_bootstrap_ctr_ab.plot(ax=ax[1])\n",
    "hist_bootstrap_ctr_ab_50.plot(ax=ax[2], bins=20)\n",
    "plt.tight_layout()"
   ]
  },
  {
   "cell_type": "markdown",
   "id": "cee6f648-33f3-4b04-b386-560cad50d002",
   "metadata": {},
   "source": [
    "It's hard to say if there is a trend for target group to 'split' at low sample number. However, distributions with 5000 samples seem more narrow than those with 2000 samples."
   ]
  },
  {
   "cell_type": "code",
   "execution_count": 60,
   "id": "96f1515a-0246-4004-a331-8a8b6aed6756",
   "metadata": {},
   "outputs": [
    {
     "data": {
      "text/html": [
       "<div>\n",
       "<style scoped>\n",
       "    .dataframe tbody tr th:only-of-type {\n",
       "        vertical-align: middle;\n",
       "    }\n",
       "\n",
       "    .dataframe tbody tr th {\n",
       "        vertical-align: top;\n",
       "    }\n",
       "\n",
       "    .dataframe thead th {\n",
       "        text-align: right;\n",
       "    }\n",
       "</style>\n",
       "<table border=\"1\" class=\"dataframe\">\n",
       "  <thead>\n",
       "    <tr style=\"text-align: right;\">\n",
       "      <th></th>\n",
       "      <th>group_ctr</th>\n",
       "    </tr>\n",
       "    <tr>\n",
       "      <th>exp_group</th>\n",
       "      <th></th>\n",
       "    </tr>\n",
       "  </thead>\n",
       "  <tbody>\n",
       "    <tr>\n",
       "      <th>control</th>\n",
       "      <td>0.209609</td>\n",
       "    </tr>\n",
       "    <tr>\n",
       "      <th>target</th>\n",
       "      <td>0.200221</td>\n",
       "    </tr>\n",
       "  </tbody>\n",
       "</table>\n",
       "</div>"
      ],
      "text/plain": [
       "          group_ctr\n",
       "exp_group          \n",
       "control    0.209609\n",
       "target     0.200221"
      ]
     },
     "execution_count": 60,
     "metadata": {},
     "output_type": "execute_result"
    }
   ],
   "source": [
    "bootstrap_df_exploded.groupby('exp_group').median()"
   ]
  },
  {
   "cell_type": "markdown",
   "id": "ea833276-2b41-4dd6-bc15-473204ad9d78",
   "metadata": {},
   "source": [
    "Instead of having bimodal distribution, as we saw for user CTR, group CTR for target gives us unimodal distribution. This can be due to the averaging of the CTR by counting all likes and dividing them by all views in the pseudosample.  \n",
    "According to the boostrapped distributions (visual comparison), CTR dropped in the target group. The distributions do not overlap and if we apply paired t-test to them, we will likely get zero p-value."
   ]
  },
  {
   "cell_type": "code",
   "execution_count": 61,
   "id": "f069d85a-9ecf-4924-bdf5-06c21d3f2470",
   "metadata": {},
   "outputs": [
    {
     "data": {
      "text/plain": [
       "0    0.0\n",
       "Name: pvalue, dtype: float64"
      ]
     },
     "execution_count": 61,
     "metadata": {},
     "output_type": "execute_result"
    }
   ],
   "source": [
    "# make aliases\n",
    "control_sample = bootstrap_df_exploded[bootstrap_df_exploded.exp_group == 'control']\n",
    "target_sample = bootstrap_df_exploded[bootstrap_df_exploded.exp_group == 'target']\n",
    "\n",
    "# perform A/B test analysis by paired t-test for bootstrapped distributions\n",
    "results = sm.stats.ttest_ind(\n",
    "        control_sample.group_ctr,\n",
    "        target_sample.group_ctr,\n",
    "        usevar='unequal'\n",
    "    )\n",
    "    \n",
    "output_ttest_bootstrap = pd.DataFrame(\n",
    "    {key: value for key, value in zip(['statistic', 'pvalue', 'degrees of freedom'], results)},\n",
    "    index=[0]\n",
    ").pvalue\n",
    "output_ttest_bootstrap"
   ]
  },
  {
   "cell_type": "markdown",
   "id": "2cc6116e-1823-401e-80a3-4f28b6a3ef20",
   "metadata": {},
   "source": [
    "p-value equals zero, and we should decline H0 and count distributions different."
   ]
  },
  {
   "cell_type": "markdown",
   "id": "16c1a480-c485-497b-8ece-6db27574af49",
   "metadata": {},
   "source": [
    "---\n",
    "#### 6. Summary\n",
    "\n",
    "Let's aggregate the results of the tests we carried out and the histograms we plotted."
   ]
  },
  {
   "cell_type": "code",
   "execution_count": 62,
   "id": "ce7a9dc9-0c4b-49ee-b6e4-4587bc283fc3",
   "metadata": {},
   "outputs": [],
   "source": [
    "# make a df with the p-values\n",
    "pvalues = [output_ttest_user,\n",
    "output_mannwhitneyu_user,\n",
    "output_ttest_user_smooth,\n",
    "output_mannwhitneyu_user_smooth,\n",
    "output_ttest_bucket,\n",
    "output_mannwhitneyu_bucket,\n",
    "output_ttest_bootstrap\n",
    "          ]\n",
    "\n",
    "names = ['User t-test',\n",
    "         \"User Mann-Whitney's U test\",\n",
    "         'User smooth t-test',\n",
    "         \"User smooth Mann-Whitney's U test\",\n",
    "         'Bucket t-test',\n",
    "         \"Bucket Mann-Whitney's U test\",\n",
    "         'Bootstrap (group) ttest'\n",
    "        ]\n",
    "\n",
    "pvalues_annotated = pd.merge(pd.concat(pvalues, ignore_index=True), pd.DataFrame({'type': names}), left_index=True, right_index=True)\n",
    "pvalues_annotated['decline H0'] = pvalues_annotated.pvalue <= 0.05\n"
   ]
  },
  {
   "cell_type": "code",
   "execution_count": 63,
   "id": "151e65e8-6368-465a-ad10-4462aa8afc3d",
   "metadata": {},
   "outputs": [
    {
     "data": {
      "image/png": "[encoded data removed]",
      "text/plain": [
       "<Figure size 2000x1200 with 6 Axes>"
      ]
     },
     "metadata": {
      "needs_background": "light"
     },
     "output_type": "display_data"
    }
   ],
   "source": [
    "#plot together the histograms we had\n",
    "# make a canvas, set sizes\n",
    "fig, axs = plt.subplots(2, 3, figsize=(20, 12))\n",
    "\n",
    "to_plot = [user_ctr_aa,\n",
    "            hist_user_ctr_ab,\n",
    "            hist_user_ctr_smoothed_ab,\n",
    "            hist_bucket_ctr_ab,\n",
    "            hist_bootstrap_ctr_ab\n",
    "          ]\n",
    "\n",
    "for plot, ax in zip(to_plot, axs.reshape(-1)):\n",
    "    if plot is hist_bucket_ctr_ab:\n",
    "        plot.plot(ax=ax, bins=20)\n",
    "        continue\n",
    "    plot.plot(ax=ax)\n",
    "    \n",
    "plt.tight_layout(h_pad=5)"
   ]
  },
  {
   "cell_type": "code",
   "execution_count": 64,
   "id": "e52015c3-8249-409b-a258-89ebd81e0517",
   "metadata": {},
   "outputs": [
    {
     "data": {
      "text/html": [
       "<div>\n",
       "<style scoped>\n",
       "    .dataframe tbody tr th:only-of-type {\n",
       "        vertical-align: middle;\n",
       "    }\n",
       "\n",
       "    .dataframe tbody tr th {\n",
       "        vertical-align: top;\n",
       "    }\n",
       "\n",
       "    .dataframe thead th {\n",
       "        text-align: right;\n",
       "    }\n",
       "</style>\n",
       "<table border=\"1\" class=\"dataframe\">\n",
       "  <thead>\n",
       "    <tr style=\"text-align: right;\">\n",
       "      <th></th>\n",
       "      <th>type</th>\n",
       "      <th>pvalue</th>\n",
       "      <th>decline H0</th>\n",
       "    </tr>\n",
       "  </thead>\n",
       "  <tbody>\n",
       "    <tr>\n",
       "      <th>0</th>\n",
       "      <td>User t-test</td>\n",
       "      <td>6.761553e-01</td>\n",
       "      <td>False</td>\n",
       "    </tr>\n",
       "    <tr>\n",
       "      <th>1</th>\n",
       "      <td>User Mann-Whitney's U test</td>\n",
       "      <td>3.971156e-45</td>\n",
       "      <td>True</td>\n",
       "    </tr>\n",
       "    <tr>\n",
       "      <th>2</th>\n",
       "      <td>User smooth t-test</td>\n",
       "      <td>5.134612e-02</td>\n",
       "      <td>False</td>\n",
       "    </tr>\n",
       "    <tr>\n",
       "      <th>3</th>\n",
       "      <td>User smooth Mann-Whitney's U test</td>\n",
       "      <td>2.224838e-50</td>\n",
       "      <td>True</td>\n",
       "    </tr>\n",
       "    <tr>\n",
       "      <th>4</th>\n",
       "      <td>Bucket t-test</td>\n",
       "      <td>1.161116e-06</td>\n",
       "      <td>True</td>\n",
       "    </tr>\n",
       "    <tr>\n",
       "      <th>5</th>\n",
       "      <td>Bucket Mann-Whitney's U test</td>\n",
       "      <td>7.563124e-07</td>\n",
       "      <td>True</td>\n",
       "    </tr>\n",
       "    <tr>\n",
       "      <th>6</th>\n",
       "      <td>Bootstrap (group) ttest</td>\n",
       "      <td>0.000000e+00</td>\n",
       "      <td>True</td>\n",
       "    </tr>\n",
       "  </tbody>\n",
       "</table>\n",
       "</div>"
      ],
      "text/plain": [
       "                                type        pvalue  decline H0\n",
       "0                        User t-test  6.761553e-01       False\n",
       "1         User Mann-Whitney's U test  3.971156e-45        True\n",
       "2                 User smooth t-test  5.134612e-02       False\n",
       "3  User smooth Mann-Whitney's U test  2.224838e-50        True\n",
       "4                      Bucket t-test  1.161116e-06        True\n",
       "5       Bucket Mann-Whitney's U test  7.563124e-07        True\n",
       "6            Bootstrap (group) ttest  0.000000e+00        True"
      ]
     },
     "execution_count": 64,
     "metadata": {},
     "output_type": "execute_result"
    }
   ],
   "source": [
    "pvalues_annotated[['type', 'pvalue', 'decline H0']]"
   ]
  },
  {
   "cell_type": "markdown",
   "id": "0b4deff3-0f2c-4b77-a210-b74c3f5b383b",
   "metadata": {},
   "source": [
    "Comparison of the results:  \n",
    "1. New feature applied to the target group (new recommendation algorithm) splitted the users into the two subgroups: one increased their user CTR compared to the control, while another subgroup descreased in metrics, so the two modes of the target user distribution ended up around the mode of the control metrics.\n",
    "2. Partly because of that, paired t-test did not show the difference in the user CTR. Even reducing the noise by smoothing (which partly got rid of extreme values) did not lead to changing the verdict (although the p-value dropped dramatically).\n",
    "3. Mann-Whitney U test, however, showed the difference in the user metrics both times. It can be that H0 (for randomly chosen x1 and x2 from groups 1 and 2 P(x1 < x2) = P(x1 > x2)) should be declined because two modes (two peaks) of the target group do not have euqal shape (peak 1 is narrow and high, while peak 2 is wide and low), even though they surround control peak at the same distance, which can introduce difference in the comparisons.\n",
    "4. In the tests with bucketization, both tests showed difference in groups. It can be that when randomly splitting the users into the buckets, we get averaging of the metrics from both modes of the target group, so the resulting distribution of bucket CTR is unimodal and shifted towards lower CTR (due to larger contribution from the left mode) than control metrics.\n",
    "5. Somewhat similar result was observed with bootstrapped group CTR. However, the difference between the groups is more dramatic here - the distributions do not overlap. This can be due to the iterative nature of bootstrap: when sampling a pseudosample from the target distribution, we on average get more observations from the first mode than the second mode, so each iteration may increase the bias and as we sample more and more, the distribution of group CTR would shift towards the left mode more. Indeed, there can be some trend of 'narrowing' the bootstrapped distribution with the increased sample number.\n",
    "\n",
    "Why could CTR split into two distributions after new algorithm was applied?\n",
    "1. For every parameter of the group we compared (os type, gender, age, view activity, ad/organic source, country), there is no difference in behaviour within the target group users - each subgroup showed bimodal distribution of user CTR, which was averaged by bucketing and bootstrap and made the mean lower than in control group. Two possible explanations here: there either can be another parameter of the users (e.g. subscribers/non-subscribers, dark/light theme, old/new app version) which is responsible for the two-sided changes in CTR or the new recommendation system was somehow non-uniformly applied to this group (some users received third type of the system in target group).\n",
    "\n",
    "Do we agree to use the new system on all users?\n",
    "1. Looking at the user CTR, we can see that there is a subgroup of the target group that gained higher CTR values. It is not a major subgroup (only approx 44% of target users had this behaviour), however, we can try running another AB test where this 44% users would have equal size as a control group so that we can compare them. If this is a significant difference, we could focus our attention on this group of the users.  \n",
    "2. Looking at the group CTR (the one we initally wanted to compare), there is clearly a decrease in the metric for the target group. I would not recommend to upscale the system."
   ]
  },
  {
   "cell_type": "markdown",
   "id": "1c7bb9e9-cc31-4415-9f8f-4c8e54a3497c",
   "metadata": {},
   "source": [
    "#### 7. Questions:\n",
    "\n",
    "1. Are we allowed to use t-test when the distributions we compare have different shape?\n",
    "2. Are we allowed to compare 'user CTR' and 'group CTR' that comes from bootstrap or buckets? For group CTR, we are loosing this spliited shape of the distribution and loose the information about the subgroups.\n",
    "3. To see if an average of a sample is distributed normally (if the sample size is appropriate for t-test), can we bootstrap this sample and look how averages are distributed?\n",
    "4. What would you say, would you apply this new system to all the users? What could be the reason for such an effect on CTR?"
   ]
  },
  {
   "cell_type": "markdown",
   "id": "19054984-aa49-41fc-b397-6b2fe1503172",
   "metadata": {},
   "source": [
    "#### 8. Notes for myself:\n",
    "\n",
    "  "
   ]
  },
  {
   "cell_type": "markdown",
   "id": "877a6ee4-ed7a-43a0-b192-0abefde74e3a",
   "metadata": {},
   "source": [
    "<a id=\"ab-testing-of-linearized-likes\"></a>\n",
    "\n",
    "### A/B testing of linearized likes\n",
    "---\n",
    "Explore A/B testing techniques applied to linearized likes.\n",
    "\n",
    "To increase the sensitivity of the test, we can apply linearization technique to likes metric.\n",
    "\n",
    "The idea of the method:\n",
    "\n",
    "Instead of testing \"per-user\" CTR, we can construct another metric and analyze it. However, unlike smoothed CTR, it is guaranteed that if the test on this other metric detects changes, it means there are changes in the original metric (i.e., in likes per user and in user CTR).\n",
    "\n",
    "The method itself is very simple. What is this metric?\n",
    "\n",
    "1. Calculate the overall CTR in the control group: 𝐶𝑇𝑅𝑐𝑜𝑛𝑡𝑟𝑜𝑙 = 𝑠𝑢𝑚(𝑙𝑖𝑘𝑒𝑠) / 𝑠𝑢𝑚(𝑣𝑖𝑒𝑤𝑠).\n",
    "\n",
    "2. Calculate the per-user metric in both groups: 𝑙𝑖𝑛𝑒𝑎𝑟𝑖𝑧𝑒𝑑_𝑙𝑖𝑘𝑒𝑠 = 𝑙𝑖𝑘𝑒𝑠 - 𝐶𝑇𝑅𝑐𝑜𝑛𝑡𝑟𝑜𝑙 * 𝑣𝑖𝑒𝑤𝑠.\n",
    "\n",
    "3. Then compare the differences in groups using a t-test for the metric 𝑙𝑖𝑛𝑒𝑎𝑟𝑖𝑧𝑒𝑑_𝑙𝑖𝑘𝑒𝑠.\n",
    "\n",
    "Task:\n",
    "\n",
    "1. Analyze the test between groups 0 and 3 using the metric of linearized likes. Is there any difference visible? Has 𝑝-value become smaller?\n",
    "\n",
    "2. Analyze the test between groups 1 and 2 using the metric of linearized likes. Is there any difference visible? Has 𝑝-value become smaller?"
   ]
  },
  {
   "cell_type": "markdown",
   "id": "45620584-7cff-4b78-a5f9-e2c118e838b9",
   "metadata": {},
   "source": [
    "#### 1. Paired t-test on user CTR\n",
    "\n",
    "Let's perform paired t-test on linearized likes for groups 0-3 and 1-2.  \n",
    "To do this, we first do t-test for CTR for groups 0-3 as we didn't do that before."
   ]
  },
  {
   "cell_type": "code",
   "execution_count": 65,
   "id": "3730bd65-6b52-4a2b-92d3-32b01f49e84b",
   "metadata": {
    "tags": []
   },
   "outputs": [],
   "source": [
    "# get a table with users from groups 0 and 3 and their ctr\n",
    "# during the period from 30 June to 6 July\n",
    "\n",
    "query = '''\n",
    "SELECT user_id,\n",
    "if(exp_group = 0, 'control', 'target') AS exp_group,\n",
    "likes,\n",
    "views,\n",
    "likes::FLOAT / views AS ctr\n",
    "FROM (\n",
    "SELECT user_id, \n",
    "exp_group,\n",
    "countIf(action = 'like') AS likes,\n",
    "countIf(action = 'view') AS views\n",
    "FROM simulator_20230720.feed_actions\n",
    "WHERE (time BETWEEN '2023-06-30'::DATE AND '2023-07-07'::DATE) \n",
    "AND exp_group IN (0, 3)\n",
    "GROUP BY user_id, exp_group \n",
    ") aggregated_likes\n",
    "'''\n",
    "\n",
    "# import a table to a dataframe\n",
    "user_ctr_ab_0_3 = ph.read_clickhouse(\n",
    "    query, \n",
    "    connection=CONNECTION\n",
    ")\n"
   ]
  },
  {
   "cell_type": "code",
   "execution_count": 66,
   "id": "7afda28e-4739-4bbf-9aac-a5eed59fd051",
   "metadata": {},
   "outputs": [
    {
     "name": "stdout",
     "output_type": "stream",
     "text": [
      "<class 'pandas.core.frame.DataFrame'>\n",
      "RangeIndex: 19922 entries, 0 to 19921\n",
      "Data columns (total 5 columns):\n",
      " #   Column     Non-Null Count  Dtype  \n",
      "---  ------     --------------  -----  \n",
      " 0   user_id    19922 non-null  uint32 \n",
      " 1   exp_group  19922 non-null  object \n",
      " 2   likes      19922 non-null  uint64 \n",
      " 3   views      19922 non-null  uint64 \n",
      " 4   ctr        19922 non-null  float64\n",
      "dtypes: float64(1), object(1), uint32(1), uint64(2)\n",
      "memory usage: 700.5+ KB\n"
     ]
    }
   ],
   "source": [
    "user_ctr_ab_0_3.info()"
   ]
  },
  {
   "cell_type": "code",
   "execution_count": 67,
   "id": "bc2cccd2-ca6c-4c80-8114-ec1888100c87",
   "metadata": {},
   "outputs": [
    {
     "data": {
      "text/html": [
       "<div>\n",
       "<style scoped>\n",
       "    .dataframe tbody tr th:only-of-type {\n",
       "        vertical-align: middle;\n",
       "    }\n",
       "\n",
       "    .dataframe tbody tr th {\n",
       "        vertical-align: top;\n",
       "    }\n",
       "\n",
       "    .dataframe thead th {\n",
       "        text-align: right;\n",
       "    }\n",
       "</style>\n",
       "<table border=\"1\" class=\"dataframe\">\n",
       "  <thead>\n",
       "    <tr style=\"text-align: right;\">\n",
       "      <th></th>\n",
       "      <th>user_id</th>\n",
       "      <th>exp_group</th>\n",
       "      <th>likes</th>\n",
       "      <th>views</th>\n",
       "      <th>ctr</th>\n",
       "    </tr>\n",
       "  </thead>\n",
       "  <tbody>\n",
       "    <tr>\n",
       "      <th>0</th>\n",
       "      <td>115383</td>\n",
       "      <td>target</td>\n",
       "      <td>12</td>\n",
       "      <td>44</td>\n",
       "      <td>0.272727</td>\n",
       "    </tr>\n",
       "    <tr>\n",
       "      <th>1</th>\n",
       "      <td>123580</td>\n",
       "      <td>target</td>\n",
       "      <td>2</td>\n",
       "      <td>11</td>\n",
       "      <td>0.181818</td>\n",
       "    </tr>\n",
       "    <tr>\n",
       "      <th>2</th>\n",
       "      <td>4944</td>\n",
       "      <td>control</td>\n",
       "      <td>8</td>\n",
       "      <td>41</td>\n",
       "      <td>0.195122</td>\n",
       "    </tr>\n",
       "    <tr>\n",
       "      <th>3</th>\n",
       "      <td>4504</td>\n",
       "      <td>control</td>\n",
       "      <td>5</td>\n",
       "      <td>15</td>\n",
       "      <td>0.333333</td>\n",
       "    </tr>\n",
       "    <tr>\n",
       "      <th>4</th>\n",
       "      <td>121508</td>\n",
       "      <td>control</td>\n",
       "      <td>6</td>\n",
       "      <td>25</td>\n",
       "      <td>0.240000</td>\n",
       "    </tr>\n",
       "  </tbody>\n",
       "</table>\n",
       "</div>"
      ],
      "text/plain": [
       "   user_id exp_group  likes  views       ctr\n",
       "0   115383    target     12     44  0.272727\n",
       "1   123580    target      2     11  0.181818\n",
       "2     4944   control      8     41  0.195122\n",
       "3     4504   control      5     15  0.333333\n",
       "4   121508   control      6     25  0.240000"
      ]
     },
     "execution_count": 67,
     "metadata": {},
     "output_type": "execute_result"
    }
   ],
   "source": [
    "user_ctr_ab_0_3.head()"
   ]
  },
  {
   "cell_type": "code",
   "execution_count": 68,
   "id": "ac49f8f3-a0cd-4e8a-9a68-938d304b06ba",
   "metadata": {},
   "outputs": [
    {
     "data": {
      "image/png": "[encoded data removed]",
      "text/plain": [
       "<Figure size 900x400 with 1 Axes>"
      ]
     },
     "metadata": {
      "needs_background": "light"
     },
     "output_type": "display_data"
    }
   ],
   "source": [
    "# make a canvas, set sizes\n",
    "\n",
    "hist_user_ctr_ab_3_4 = HistPlotter(\n",
    "    data=user_ctr_ab_0_3,\n",
    "    x='ctr', \n",
    "    hue='exp_group',  \n",
    "    xlabel='user CTR',\n",
    "    ylabel='Count',\n",
    "    title='User CTR by Exp Group after A/B testing'\n",
    ")\n",
    "\n",
    "hist_user_ctr_ab_3_4.plot()\n"
   ]
  },
  {
   "cell_type": "markdown",
   "id": "de0e7b67-c178-4db5-be8f-be767c8813da",
   "metadata": {},
   "source": [
    "There seems to be a shift of the user CTR in control group (towards lower CTR). Let's do the test."
   ]
  },
  {
   "cell_type": "code",
   "execution_count": 69,
   "id": "c4d53b6c-2dae-4cbb-92b3-8901ad68b887",
   "metadata": {},
   "outputs": [],
   "source": [
    "# create for the groups\n",
    "control_sample = user_ctr_ab_0_3.loc[user_ctr_ab_0_3.exp_group == 'control']\n",
    "target_sample = user_ctr_ab_0_3.loc[user_ctr_ab_0_3.exp_group == 'target']"
   ]
  },
  {
   "cell_type": "code",
   "execution_count": 70,
   "id": "9272dd61-5c1c-4527-b080-0f0cfce71b4b",
   "metadata": {},
   "outputs": [
    {
     "data": {
      "text/plain": [
       "0    6.333450e-44\n",
       "Name: pvalue, dtype: float64"
      ]
     },
     "execution_count": 70,
     "metadata": {},
     "output_type": "execute_result"
    }
   ],
   "source": [
    "# perform A/B test analysis by paired t-test    \n",
    "results = sm.stats.ttest_ind(\n",
    "        control_sample.ctr,\n",
    "        target_sample.ctr,\n",
    "        usevar='unequal'\n",
    "    )\n",
    "    \n",
    "output_ttest_user = pd.DataFrame(\n",
    "    {key: value for key, value in zip(['statistic', 'pvalue', 'degrees of freedom'], results)},\n",
    "    index=[0]\n",
    ").pvalue\n",
    "\n",
    "output_ttest_user"
   ]
  },
  {
   "cell_type": "markdown",
   "id": "8268dbfc-1030-4cf4-bfe7-a8e9178f9b5e",
   "metadata": {},
   "source": [
    "#### 2. Paired t-test on user linearized likes\n",
    "\n",
    "Now we can compare these results with the test on linearized metric."
   ]
  },
  {
   "cell_type": "code",
   "execution_count": 71,
   "id": "4de6e3ac-c711-4749-b8fc-3058f39dcf87",
   "metadata": {
    "tags": []
   },
   "outputs": [],
   "source": [
    "# get a table with users from groups 0-3 and their likes,\n",
    "# views, and group CTR (for control groups 0 and 1)\n",
    "# during the period from 30 June to 6 July\n",
    "\n",
    "query = '''\n",
    "SELECT user_id,\n",
    "sumIf(likes, exp_group IN (0, 1)) OVER(PARTITION BY exp_group) AS likes_control,\n",
    "sumIf(views, exp_group IN (0, 1)) OVER(PARTITION BY exp_group) AS views_control,\n",
    "exp_group,\n",
    "likes,\n",
    "views\n",
    "FROM (\n",
    "SELECT user_id, \n",
    "exp_group,\n",
    "countIf(action = 'like') AS likes,\n",
    "countIf(action = 'view') AS views\n",
    "FROM simulator_20230720.feed_actions\n",
    "WHERE (time BETWEEN '2023-06-30'::DATE AND '2023-07-07'::DATE) AND exp_group != 4\n",
    "GROUP BY user_id, exp_group\n",
    ") aggregated_likes\n",
    "'''\n",
    "\n",
    "# import a table to a dataframe\n",
    "user_ctr_ab = ph.read_clickhouse(\n",
    "    query, \n",
    "    connection=CONNECTION\n",
    ")\n"
   ]
  },
  {
   "cell_type": "code",
   "execution_count": 72,
   "id": "3e37a5d9-0d8d-4035-a36d-959319eb2dbf",
   "metadata": {},
   "outputs": [
    {
     "data": {
      "text/html": [
       "<div>\n",
       "<style scoped>\n",
       "    .dataframe tbody tr th:only-of-type {\n",
       "        vertical-align: middle;\n",
       "    }\n",
       "\n",
       "    .dataframe tbody tr th {\n",
       "        vertical-align: top;\n",
       "    }\n",
       "\n",
       "    .dataframe thead th {\n",
       "        text-align: right;\n",
       "    }\n",
       "</style>\n",
       "<table border=\"1\" class=\"dataframe\">\n",
       "  <thead>\n",
       "    <tr style=\"text-align: right;\">\n",
       "      <th></th>\n",
       "      <th>user_id</th>\n",
       "      <th>likes_control</th>\n",
       "      <th>views_control</th>\n",
       "      <th>exp_group</th>\n",
       "      <th>likes</th>\n",
       "      <th>views</th>\n",
       "    </tr>\n",
       "  </thead>\n",
       "  <tbody>\n",
       "    <tr>\n",
       "      <th>0</th>\n",
       "      <td>30319</td>\n",
       "      <td>140715</td>\n",
       "      <td>670586</td>\n",
       "      <td>0</td>\n",
       "      <td>25</td>\n",
       "      <td>114</td>\n",
       "    </tr>\n",
       "    <tr>\n",
       "      <th>1</th>\n",
       "      <td>7626</td>\n",
       "      <td>140715</td>\n",
       "      <td>670586</td>\n",
       "      <td>0</td>\n",
       "      <td>14</td>\n",
       "      <td>39</td>\n",
       "    </tr>\n",
       "    <tr>\n",
       "      <th>2</th>\n",
       "      <td>12217</td>\n",
       "      <td>140715</td>\n",
       "      <td>670586</td>\n",
       "      <td>0</td>\n",
       "      <td>12</td>\n",
       "      <td>52</td>\n",
       "    </tr>\n",
       "    <tr>\n",
       "      <th>3</th>\n",
       "      <td>3450</td>\n",
       "      <td>140715</td>\n",
       "      <td>670586</td>\n",
       "      <td>0</td>\n",
       "      <td>10</td>\n",
       "      <td>42</td>\n",
       "    </tr>\n",
       "    <tr>\n",
       "      <th>4</th>\n",
       "      <td>109621</td>\n",
       "      <td>140715</td>\n",
       "      <td>670586</td>\n",
       "      <td>0</td>\n",
       "      <td>25</td>\n",
       "      <td>166</td>\n",
       "    </tr>\n",
       "  </tbody>\n",
       "</table>\n",
       "</div>"
      ],
      "text/plain": [
       "   user_id  likes_control  views_control  exp_group  likes  views\n",
       "0    30319         140715         670586          0     25    114\n",
       "1     7626         140715         670586          0     14     39\n",
       "2    12217         140715         670586          0     12     52\n",
       "3     3450         140715         670586          0     10     42\n",
       "4   109621         140715         670586          0     25    166"
      ]
     },
     "execution_count": 72,
     "metadata": {},
     "output_type": "execute_result"
    }
   ],
   "source": [
    "user_ctr_ab.head()"
   ]
  },
  {
   "cell_type": "code",
   "execution_count": 73,
   "id": "f69a1e20-abfe-4cf1-92c8-a51eddae0ec0",
   "metadata": {},
   "outputs": [
    {
     "name": "stdout",
     "output_type": "stream",
     "text": [
      "<class 'pandas.core.frame.DataFrame'>\n",
      "RangeIndex: 39820 entries, 0 to 39819\n",
      "Data columns (total 6 columns):\n",
      " #   Column         Non-Null Count  Dtype \n",
      "---  ------         --------------  ----- \n",
      " 0   user_id        39820 non-null  uint32\n",
      " 1   likes_control  39820 non-null  uint64\n",
      " 2   views_control  39820 non-null  uint64\n",
      " 3   exp_group      39820 non-null  int8  \n",
      " 4   likes          39820 non-null  uint64\n",
      " 5   views          39820 non-null  uint64\n",
      "dtypes: int8(1), uint32(1), uint64(4)\n",
      "memory usage: 1.4 MB\n"
     ]
    }
   ],
   "source": [
    "user_ctr_ab.info()"
   ]
  },
  {
   "cell_type": "code",
   "execution_count": 74,
   "id": "168e2558-b958-411a-9c84-062263c3a9e5",
   "metadata": {},
   "outputs": [
    {
     "data": {
      "text/html": [
       "<div>\n",
       "<style scoped>\n",
       "    .dataframe tbody tr th:only-of-type {\n",
       "        vertical-align: middle;\n",
       "    }\n",
       "\n",
       "    .dataframe tbody tr th {\n",
       "        vertical-align: top;\n",
       "    }\n",
       "\n",
       "    .dataframe thead th {\n",
       "        text-align: right;\n",
       "    }\n",
       "</style>\n",
       "<table border=\"1\" class=\"dataframe\">\n",
       "  <thead>\n",
       "    <tr style=\"text-align: right;\">\n",
       "      <th></th>\n",
       "      <th>ctr_control</th>\n",
       "    </tr>\n",
       "    <tr>\n",
       "      <th>exp_group</th>\n",
       "      <th></th>\n",
       "    </tr>\n",
       "  </thead>\n",
       "  <tbody>\n",
       "    <tr>\n",
       "      <th>0</th>\n",
       "      <td>0.209839</td>\n",
       "    </tr>\n",
       "    <tr>\n",
       "      <th>1</th>\n",
       "      <td>0.209603</td>\n",
       "    </tr>\n",
       "    <tr>\n",
       "      <th>2</th>\n",
       "      <td>NaN</td>\n",
       "    </tr>\n",
       "    <tr>\n",
       "      <th>3</th>\n",
       "      <td>NaN</td>\n",
       "    </tr>\n",
       "  </tbody>\n",
       "</table>\n",
       "</div>"
      ],
      "text/plain": [
       "           ctr_control\n",
       "exp_group             \n",
       "0             0.209839\n",
       "1             0.209603\n",
       "2                  NaN\n",
       "3                  NaN"
      ]
     },
     "execution_count": 74,
     "metadata": {},
     "output_type": "execute_result"
    }
   ],
   "source": [
    "# make a ctr_control column\n",
    "user_ctr_ab['ctr_control'] = user_ctr_ab.likes_control.div(user_ctr_ab.views_control)\n",
    "\n",
    "user_ctr_ab.groupby('exp_group')[['ctr_control']].max()"
   ]
  },
  {
   "cell_type": "code",
   "execution_count": 75,
   "id": "a29f07f3-f290-412d-bf52-25f91a8fe72a",
   "metadata": {},
   "outputs": [
    {
     "data": {
      "text/html": [
       "<div>\n",
       "<style scoped>\n",
       "    .dataframe tbody tr th:only-of-type {\n",
       "        vertical-align: middle;\n",
       "    }\n",
       "\n",
       "    .dataframe tbody tr th {\n",
       "        vertical-align: top;\n",
       "    }\n",
       "\n",
       "    .dataframe thead th {\n",
       "        text-align: right;\n",
       "    }\n",
       "</style>\n",
       "<table border=\"1\" class=\"dataframe\">\n",
       "  <thead>\n",
       "    <tr style=\"text-align: right;\">\n",
       "      <th></th>\n",
       "      <th>ctr_control</th>\n",
       "    </tr>\n",
       "    <tr>\n",
       "      <th>exp_group</th>\n",
       "      <th></th>\n",
       "    </tr>\n",
       "  </thead>\n",
       "  <tbody>\n",
       "    <tr>\n",
       "      <th>0</th>\n",
       "      <td>0.209839</td>\n",
       "    </tr>\n",
       "    <tr>\n",
       "      <th>1</th>\n",
       "      <td>0.209603</td>\n",
       "    </tr>\n",
       "    <tr>\n",
       "      <th>2</th>\n",
       "      <td>0.209603</td>\n",
       "    </tr>\n",
       "    <tr>\n",
       "      <th>3</th>\n",
       "      <td>0.209839</td>\n",
       "    </tr>\n",
       "  </tbody>\n",
       "</table>\n",
       "</div>"
      ],
      "text/plain": [
       "           ctr_control\n",
       "exp_group             \n",
       "0             0.209839\n",
       "1             0.209603\n",
       "2             0.209603\n",
       "3             0.209839"
      ]
     },
     "execution_count": 75,
     "metadata": {},
     "output_type": "execute_result"
    }
   ],
   "source": [
    "# fill ctr_control column for groups 2 and 3\n",
    "# with corresponding control values\n",
    "ctr_control_1 = user_ctr_ab.loc[user_ctr_ab.exp_group == 1].ctr_control.max()\n",
    "ctr_control_0 = user_ctr_ab.loc[user_ctr_ab.exp_group == 0].ctr_control.max()\n",
    "\n",
    "user_ctr_ab.loc[user_ctr_ab.exp_group == 2, 'ctr_control'] = user_ctr_ab.loc[user_ctr_ab.exp_group == 2].ctr_control.fillna(ctr_control_1)\n",
    "user_ctr_ab.loc[user_ctr_ab.exp_group == 3, 'ctr_control'] = user_ctr_ab.loc[user_ctr_ab.exp_group == 3].ctr_control.fillna(ctr_control_0)\n",
    "\n",
    "user_ctr_ab.groupby('exp_group')[['ctr_control']].max()"
   ]
  },
  {
   "cell_type": "code",
   "execution_count": 76,
   "id": "c95b18bb-6a36-44c3-a26f-a0d828a32960",
   "metadata": {},
   "outputs": [
    {
     "data": {
      "text/html": [
       "<div>\n",
       "<style scoped>\n",
       "    .dataframe tbody tr th:only-of-type {\n",
       "        vertical-align: middle;\n",
       "    }\n",
       "\n",
       "    .dataframe tbody tr th {\n",
       "        vertical-align: top;\n",
       "    }\n",
       "\n",
       "    .dataframe thead th {\n",
       "        text-align: right;\n",
       "    }\n",
       "</style>\n",
       "<table border=\"1\" class=\"dataframe\">\n",
       "  <thead>\n",
       "    <tr style=\"text-align: right;\">\n",
       "      <th></th>\n",
       "      <th>user_id</th>\n",
       "      <th>likes_control</th>\n",
       "      <th>views_control</th>\n",
       "      <th>exp_group</th>\n",
       "      <th>likes</th>\n",
       "      <th>views</th>\n",
       "      <th>ctr_control</th>\n",
       "      <th>linearized_likes</th>\n",
       "    </tr>\n",
       "  </thead>\n",
       "  <tbody>\n",
       "    <tr>\n",
       "      <th>0</th>\n",
       "      <td>30319</td>\n",
       "      <td>140715</td>\n",
       "      <td>670586</td>\n",
       "      <td>0</td>\n",
       "      <td>25</td>\n",
       "      <td>114</td>\n",
       "      <td>0.209839</td>\n",
       "      <td>1.078370</td>\n",
       "    </tr>\n",
       "    <tr>\n",
       "      <th>1</th>\n",
       "      <td>7626</td>\n",
       "      <td>140715</td>\n",
       "      <td>670586</td>\n",
       "      <td>0</td>\n",
       "      <td>14</td>\n",
       "      <td>39</td>\n",
       "      <td>0.209839</td>\n",
       "      <td>5.816285</td>\n",
       "    </tr>\n",
       "    <tr>\n",
       "      <th>2</th>\n",
       "      <td>12217</td>\n",
       "      <td>140715</td>\n",
       "      <td>670586</td>\n",
       "      <td>0</td>\n",
       "      <td>12</td>\n",
       "      <td>52</td>\n",
       "      <td>0.209839</td>\n",
       "      <td>1.088379</td>\n",
       "    </tr>\n",
       "    <tr>\n",
       "      <th>3</th>\n",
       "      <td>3450</td>\n",
       "      <td>140715</td>\n",
       "      <td>670586</td>\n",
       "      <td>0</td>\n",
       "      <td>10</td>\n",
       "      <td>42</td>\n",
       "      <td>0.209839</td>\n",
       "      <td>1.186768</td>\n",
       "    </tr>\n",
       "    <tr>\n",
       "      <th>4</th>\n",
       "      <td>109621</td>\n",
       "      <td>140715</td>\n",
       "      <td>670586</td>\n",
       "      <td>0</td>\n",
       "      <td>25</td>\n",
       "      <td>166</td>\n",
       "      <td>0.209839</td>\n",
       "      <td>-9.833250</td>\n",
       "    </tr>\n",
       "  </tbody>\n",
       "</table>\n",
       "</div>"
      ],
      "text/plain": [
       "   user_id  likes_control  views_control  exp_group  likes  views  \\\n",
       "0    30319         140715         670586          0     25    114   \n",
       "1     7626         140715         670586          0     14     39   \n",
       "2    12217         140715         670586          0     12     52   \n",
       "3     3450         140715         670586          0     10     42   \n",
       "4   109621         140715         670586          0     25    166   \n",
       "\n",
       "   ctr_control  linearized_likes  \n",
       "0     0.209839          1.078370  \n",
       "1     0.209839          5.816285  \n",
       "2     0.209839          1.088379  \n",
       "3     0.209839          1.186768  \n",
       "4     0.209839         -9.833250  "
      ]
     },
     "execution_count": 76,
     "metadata": {},
     "output_type": "execute_result"
    }
   ],
   "source": [
    "user_ctr_ab['linearized_likes'] = user_ctr_ab.likes.sub(user_ctr_ab.ctr_control.mul(user_ctr_ab.views))\n",
    "\n",
    "user_ctr_ab.head()"
   ]
  },
  {
   "cell_type": "code",
   "execution_count": 77,
   "id": "ef77ebd8-e859-4111-bd85-7bf40bf5e242",
   "metadata": {},
   "outputs": [],
   "source": [
    "# iterate over pairs control-target,\n",
    "# do paired t-test, fetch pvalues\n",
    "pvalues = []\n",
    "index = []\n",
    "to_plot = []\n",
    "\n",
    "for control_index, target_index in zip((0, 1), (3, 2)):\n",
    "    \n",
    "    control_sample = user_ctr_ab.loc[user_ctr_ab.exp_group == control_index]\n",
    "    target_sample = user_ctr_ab.loc[user_ctr_ab.exp_group == target_index]\n",
    "    \n",
    "    # perform A/B test analysis by paired t-test    \n",
    "    results = sm.stats.ttest_ind(\n",
    "            control_sample.linearized_likes,\n",
    "            target_sample.linearized_likes,\n",
    "            usevar='unequal'\n",
    "        )\n",
    "    \n",
    "    pvalues.append(results[1])\n",
    "    index.append((control_index, target_index))\n",
    "    \n",
    "    to_plot.append(HistPlotter(\n",
    "        data=user_ctr_ab.loc[user_ctr_ab.exp_group.isin([control_index, target_index])],\n",
    "        x='linearized_likes', \n",
    "        hue='exp_group',  \n",
    "        xlabel='user linearized_likes',\n",
    "        ylabel='Count',\n",
    "        title='User linearized_likes by Exp Group after A/B testing'\n",
    "    )\n",
    "                  )\n",
    "\n",
    "pvalues_df = pd.DataFrame({'pair': index, 'pvalue': pvalues})"
   ]
  },
  {
   "cell_type": "code",
   "execution_count": 78,
   "id": "b393ae12-db89-4a61-89ad-f4aae4d0c8fa",
   "metadata": {},
   "outputs": [
    {
     "data": {
      "image/png": "[encoded data removed]",
      "text/plain": [
       "<Figure size 1500x800 with 4 Axes>"
      ]
     },
     "metadata": {
      "needs_background": "light"
     },
     "output_type": "display_data"
    }
   ],
   "source": [
    "# make a canvas, set sizes\n",
    "fig, axs = plt.subplots(2, 2, figsize=(15, 8))\n",
    "\n",
    "to_plot.extend([hist_user_ctr_ab_3_4,\n",
    "                hist_user_ctr_ab\n",
    "               ]\n",
    "              )\n",
    "\n",
    "for plot, ax in zip(to_plot, axs.reshape(-1)):\n",
    "    plot.plot(ax=ax)\n",
    "    \n",
    "plt.tight_layout(h_pad=5)"
   ]
  },
  {
   "cell_type": "code",
   "execution_count": 79,
   "id": "aa0c4377-021a-439f-acac-96c3881335ff",
   "metadata": {},
   "outputs": [
    {
     "data": {
      "text/html": [
       "<div>\n",
       "<style scoped>\n",
       "    .dataframe tbody tr th:only-of-type {\n",
       "        vertical-align: middle;\n",
       "    }\n",
       "\n",
       "    .dataframe tbody tr th {\n",
       "        vertical-align: top;\n",
       "    }\n",
       "\n",
       "    .dataframe thead th {\n",
       "        text-align: right;\n",
       "    }\n",
       "</style>\n",
       "<table border=\"1\" class=\"dataframe\">\n",
       "  <thead>\n",
       "    <tr style=\"text-align: right;\">\n",
       "      <th></th>\n",
       "      <th>pair</th>\n",
       "      <th>pvalue</th>\n",
       "    </tr>\n",
       "  </thead>\n",
       "  <tbody>\n",
       "    <tr>\n",
       "      <th>0</th>\n",
       "      <td>(0, 3)</td>\n",
       "      <td>1.512081e-58</td>\n",
       "    </tr>\n",
       "    <tr>\n",
       "      <th>1</th>\n",
       "      <td>(1, 2)</td>\n",
       "      <td>2.989818e-09</td>\n",
       "    </tr>\n",
       "  </tbody>\n",
       "</table>\n",
       "</div>"
      ],
      "text/plain": [
       "     pair        pvalue\n",
       "0  (0, 3)  1.512081e-58\n",
       "1  (1, 2)  2.989818e-09"
      ]
     },
     "execution_count": 79,
     "metadata": {},
     "output_type": "execute_result"
    }
   ],
   "source": [
    "pvalues_df\n"
   ]
  },
  {
   "cell_type": "markdown",
   "id": "d1c92076-3828-4285-b4d1-3d8124d39dee",
   "metadata": {
    "tags": []
   },
   "source": [
    "#### 3. Summary\n",
    "\n",
    "1. Analyze the test between groups 0 and 3 using the metric of linearized likes. Is there any difference visible? Has 𝑝-value become smaller?\n",
    "\n",
    "Yes, the difference is clear, p-value dropped from 6.3e-44 to 1.5e-58.\n",
    "\n",
    "\n",
    "2. Analyze the test between groups 1 and 2 using the metric of linearized likes. Is there any difference visible? Has 𝑝-value become smaller?\n",
    "\n",
    "Yes, the difference is clear, p-value dropped from 0.67 to 3e-9."
   ]
  },
  {
   "cell_type": "markdown",
   "id": "7d78cca0-5c86-46d7-8b7e-96a11dd4ad09",
   "metadata": {},
   "source": [
    "#### 4. Questions:"
   ]
  },
  {
   "cell_type": "markdown",
   "id": "3dd44298-405d-4e85-8c4b-7ca7fe3cdf96",
   "metadata": {},
   "source": [
    "#### 5. Notes for myself:\n",
    "To read:\n",
    "  - https://vkteam.medium.com/practitioners-guide-to-statistical-tests-ed2d580ef04f#d2d3\n",
    "  - https://www.youtube.com/watch?v=gljfGAkgX_o&t=19s\n",
    "  "
   ]
  }
 ],
 "metadata": {
  "kernelspec": {
   "display_name": "Python 3 (ipykernel)",
   "language": "python",
   "name": "python3"
  },
  "language_info": {
   "codemirror_mode": {
    "name": "ipython",
    "version": 3
   },
   "file_extension": ".py",
   "mimetype": "text/x-python",
   "name": "python",
   "nbconvert_exporter": "python",
   "pygments_lexer": "ipython3",
   "version": "3.8.10"
  }
 },
 "nbformat": 4,
 "nbformat_minor": 5
}
