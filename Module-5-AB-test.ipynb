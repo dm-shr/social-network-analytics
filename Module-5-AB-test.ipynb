{
 "cells": [
  {
   "cell_type": "markdown",
   "id": "3ef0b5ac-147f-4a5c-95bd-1a81124c0a40",
   "metadata": {
    "tags": []
   },
   "source": [
    "### Part 4: Retention analysis. Churn rate\n",
    "\n",
    "Before we calculate, vizualize and compare retention rate across different user groups, let's first see weekly:\n",
    "  - how many users are new, how many users been in the feed both current and last week, how many users been active last, but not current week? \n",
    "  \n",
    "So the groups are:\n",
    "\n",
    "  - new users: start their activity of the current week\n",
    "  - retained users: active both of the current and previous weeks\n",
    "  - gone users: been active on previous week, but not on the current week"
   ]
  },
  {
   "cell_type": "code",
   "execution_count": 1,
   "id": "ca8b19d9-7df6-425b-a194-2a7d9c14c10a",
   "metadata": {
    "tags": []
   },
   "outputs": [],
   "source": [
    "# start with the imports we would need\n",
    "import numpy as np\n",
    "import matplotlib.pyplot as plt\n",
    "import matplotlib.axes as axes\n",
    "from scipy.stats import chi2_contingency # Chi-Squared testing\n",
    "import pandas as pd\n",
    "import pandahouse as ph # Connect with clickhouse DB\n",
    "import seaborn as sns\n"
   ]
  },
  {
   "cell_type": "code",
   "execution_count": 35,
   "id": "423b58a6-2704-4c43-905c-b12c9fc9cdee",
   "metadata": {},
   "outputs": [],
   "source": [
    "# set quality of the plots to be built\n",
    "plt.rcParams['figure.dpi'] = 300\n",
    "plt.rcParams['savefig.dpi'] = 300\n",
    "\n",
    "# Set the scaling factors for the plots\n",
    "SCALE = 1 / 6\n",
    "sns.set(font_scale=1 * SCALE)\n"
   ]
  },
  {
   "cell_type": "code",
   "execution_count": 36,
   "id": "bd0d5852-93b7-4b84-b3c9-c3289ad0939e",
   "metadata": {
    "tags": []
   },
   "outputs": [],
   "source": [
    "# set the connection with the db\n",
    "CONNECTION = {'host': 'https://clickhouse.lab.karpov.courses',\n",
    "                      'database':'simulator_20230720',\n",
    "                      'user':'student', \n",
    "                      'password':'dpo_python_2020'\n",
    "                     }\n"
   ]
  },
  {
   "cell_type": "code",
   "execution_count": 37,
   "id": "8a19cf4a-648f-415b-90ce-7ebd2d67228c",
   "metadata": {
    "tags": []
   },
   "outputs": [],
   "source": [
    "# get a table where for each week we count:\n",
    "# 1. new users;\n",
    "# 2. users active this and previous week;\n",
    "# 3. users active this, but not following week.\n",
    "query = '''\n",
    "-- table where for every unique pair user-active week, \n",
    "-- shows if this user joined that week, was active last week, and was active next week\n",
    "WITH weeks_labeled AS (\n",
    "SELECT \n",
    "user_id, \n",
    "week, \n",
    "all_weeks,\n",
    "start_week,\n",
    "if(has(all_weeks, week - 7), 1, 0) AS is_previous_week,\n",
    "if(has(all_weeks, week + 7), 1, 0) AS is_next_week\n",
    "\n",
    "FROM\n",
    "\n",
    "-- table showing all user activity weeks aggregated into an array\n",
    "(SELECT DISTINCT user_id, \n",
    "toStartOfWeek(time) AS week, \n",
    "groupUniqArray(toStartOfWeek(time)) OVER (PARTITION BY user_id) AS all_weeks,\n",
    "min(toStartOfWeek(time)) OVER (PARTITION BY user_id) AS start_week\n",
    "FROM simulator_20230720.feed_actions) t1\n",
    ")\n",
    "\n",
    "SELECT toString(week) as week,\n",
    "new_users,\n",
    "retained_users,\n",
    "gone_users\n",
    "\n",
    "FROM \n",
    "-- table having counts for new and retained users by week\n",
    "(SELECT \n",
    "week, \n",
    "countIf(week = start_week) AS new_users,\n",
    "countIf(is_previous_week = 1) AS retained_users\n",
    "FROM weeks_labeled\n",
    "GROUP BY week\n",
    ") with_retained\n",
    "\n",
    "JOIN \n",
    "\n",
    "-- table having counts for users who didn`t come from last week.\n",
    "-- basically, weeks are shifted one week up to align \n",
    "-- with is_next_week column to indicate how many users did not come (\"gone\")\n",
    "(SELECT \n",
    "week + 7 AS to_next_week,\n",
    "countIf(is_next_week = 0) * (-1) AS gone_users\n",
    "FROM weeks_labeled\n",
    "GROUP BY to_next_week\n",
    ") with_gone\n",
    "\n",
    "ON (with_retained.week = with_gone.to_next_week)\n",
    "'''\n",
    "\n",
    "# import a table to a dataframe\n",
    "weeks_by_user_groups = ph.read_clickhouse(\n",
    "    query, \n",
    "    connection=CONNECTION\n",
    ")\n"
   ]
  }
 ],
 "metadata": {
  "kernelspec": {
   "display_name": "Python 3 (ipykernel)",
   "language": "python",
   "name": "python3"
  },
  "language_info": {
   "codemirror_mode": {
    "name": "ipython",
    "version": 3
   },
   "file_extension": ".py",
   "mimetype": "text/x-python",
   "name": "python",
   "nbconvert_exporter": "python",
   "pygments_lexer": "ipython3",
   "version": "3.8.10"
  }
 },
 "nbformat": 4,
 "nbformat_minor": 5
}
