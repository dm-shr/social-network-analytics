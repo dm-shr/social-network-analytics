{
 "cells": [
  {
   "cell_type": "code",
   "execution_count": 1,
   "id": "fd2e2a82-40fc-4482-bded-cb0d6e0fa8c5",
   "metadata": {},
   "outputs": [],
   "source": [
    "import logging\n",
    "import datetime\n",
    "\n",
    "# Create a logger instance\n",
    "logger = logging.getLogger('my_logger')\n",
    "logger.setLevel(logging.DEBUG)\n",
    "\n",
    "# Create a file handler to log events to a file\n",
    "log_file = 'my_log_file.log'\n",
    "file_handler = logging.FileHandler(log_file)\n",
    "\n",
    "# Create a formatter to include the timestamp in the log messages\n",
    "formatter = logging.Formatter('%(asctime)s - %(message)s', datefmt='%Y-%m-%d %H:%M:%S')\n",
    "file_handler.setFormatter(formatter)\n",
    "\n",
    "# Add the file handler to the logger\n",
    "logger.addHandler(file_handler)\n",
    "\n",
    "# Now you can log events with timestamps\n",
    "def log_event(event_message):\n",
    "    logger.info(event_message)\n",
    "\n",
    "# Log the 'quit!' event\n",
    "log_event('quit!')\n"
   ]
  },
  {
   "cell_type": "code",
   "execution_count": null,
   "id": "9f1ac2e3-88c2-4d95-a7fb-7ea7068b9a80",
   "metadata": {},
   "outputs": [],
   "source": []
  }
 ],
 "metadata": {
  "kernelspec": {
   "display_name": "Python 3 (ipykernel)",
   "language": "python",
   "name": "python3"
  },
  "language_info": {
   "codemirror_mode": {
    "name": "ipython",
    "version": 3
   },
   "file_extension": ".py",
   "mimetype": "text/x-python",
   "name": "python",
   "nbconvert_exporter": "python",
   "pygments_lexer": "ipython3",
   "version": "3.8.10"
  }
 },
 "nbformat": 4,
 "nbformat_minor": 5
}
